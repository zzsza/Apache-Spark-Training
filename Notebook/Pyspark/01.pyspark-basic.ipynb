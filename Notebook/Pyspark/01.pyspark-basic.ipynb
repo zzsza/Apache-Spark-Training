{
 "cells": [
  {
   "cell_type": "code",
   "execution_count": 46,
   "metadata": {},
   "outputs": [],
   "source": [
    "from pyspark.sql import SparkSession\n",
    "from pyspark.conf import SparkConf\n",
    "from pyspark import StorageLevel\n",
    "\n",
    "from pyspark.sql import Row\n",
    "from pyspark.sql.functions import *\n",
    "\n",
    "from pyspark.sql.functions import udf\n",
    "from pyspark.sql.types import StringType, IntegerType\n"
   ]
  },
  {
   "cell_type": "code",
   "execution_count": 2,
   "metadata": {},
   "outputs": [],
   "source": [
    "spark = SparkSession.builder \\\n",
    "    .master(\"local\") \\\n",
    "    .appName(\"Pyspark\") \\\n",
    "    .getOrCreate()\n",
    "\n",
    "sc = spark.sparkContext\n",
    "sc.setLogLevel(\"INFO\")"
   ]
  },
  {
   "cell_type": "code",
   "execution_count": 3,
   "metadata": {},
   "outputs": [
    {
     "data": {
      "text/html": [
       "\n",
       "        <div>\n",
       "            <p><b>SparkContext</b></p>\n",
       "\n",
       "            <p><a href=\"http://192.168.0.176:4040\">Spark UI</a></p>\n",
       "\n",
       "            <dl>\n",
       "              <dt>Version</dt>\n",
       "                <dd><code>v2.3.0</code></dd>\n",
       "              <dt>Master</dt>\n",
       "                <dd><code>local</code></dd>\n",
       "              <dt>AppName</dt>\n",
       "                <dd><code>Pyspark</code></dd>\n",
       "            </dl>\n",
       "        </div>\n",
       "        "
      ],
      "text/plain": [
       "<SparkContext master=local appName=Pyspark>"
      ]
     },
     "execution_count": 3,
     "metadata": {},
     "output_type": "execute_result"
    }
   ],
   "source": [
    "sc"
   ]
  },
  {
   "cell_type": "markdown",
   "metadata": {},
   "source": [
    "## Read CSV"
   ]
  },
  {
   "cell_type": "code",
   "execution_count": 54,
   "metadata": {},
   "outputs": [],
   "source": [
    "df = spark.read.csv(\"/Users/byeon/Dropbox/workspace/til/data/titanic-train.csv\", header=True, inferSchema=True)"
   ]
  },
  {
   "cell_type": "code",
   "execution_count": 7,
   "metadata": {},
   "outputs": [
    {
     "data": {
      "text/plain": [
       "DataFrame[PassengerId: int, Survived: int, Pclass: int, Name: string, Sex: string, Age: double, SibSp: int, Parch: int, Ticket: string, Fare: double, Cabin: string, Embarked: string]"
      ]
     },
     "execution_count": 7,
     "metadata": {},
     "output_type": "execute_result"
    }
   ],
   "source": [
    "df.cache()"
   ]
  },
  {
   "cell_type": "code",
   "execution_count": 17,
   "metadata": {},
   "outputs": [
    {
     "data": {
      "text/plain": [
       "True"
      ]
     },
     "execution_count": 17,
     "metadata": {},
     "output_type": "execute_result"
    }
   ],
   "source": [
    "df.is_cached"
   ]
  },
  {
   "cell_type": "code",
   "execution_count": 9,
   "metadata": {},
   "outputs": [],
   "source": [
    "df.createOrReplaceTempView(\"train\")"
   ]
  },
  {
   "cell_type": "code",
   "execution_count": 12,
   "metadata": {},
   "outputs": [
    {
     "name": "stdout",
     "output_type": "stream",
     "text": [
      "root\n",
      " |-- PassengerId: integer (nullable = true)\n",
      " |-- Survived: integer (nullable = true)\n",
      " |-- Pclass: integer (nullable = true)\n",
      " |-- Name: string (nullable = true)\n",
      " |-- Sex: string (nullable = true)\n",
      " |-- Age: double (nullable = true)\n",
      " |-- SibSp: integer (nullable = true)\n",
      " |-- Parch: integer (nullable = true)\n",
      " |-- Ticket: string (nullable = true)\n",
      " |-- Fare: double (nullable = true)\n",
      " |-- Cabin: string (nullable = true)\n",
      " |-- Embarked: string (nullable = true)\n",
      "\n"
     ]
    }
   ],
   "source": [
    "df.printSchema()"
   ]
  },
  {
   "cell_type": "code",
   "execution_count": 14,
   "metadata": {},
   "outputs": [
    {
     "name": "stdout",
     "output_type": "stream",
     "text": [
      "+-------+------------------+\n",
      "|summary|               age|\n",
      "+-------+------------------+\n",
      "|  count|               714|\n",
      "|   mean| 29.69911764705882|\n",
      "| stddev|14.526497332334035|\n",
      "|    min|              0.42|\n",
      "|    max|              80.0|\n",
      "+-------+------------------+\n",
      "\n"
     ]
    }
   ],
   "source": [
    "df.describe(\"age\").show()"
   ]
  },
  {
   "cell_type": "code",
   "execution_count": 15,
   "metadata": {},
   "outputs": [
    {
     "name": "stdout",
     "output_type": "stream",
     "text": [
      "+-------+------------------+------+\n",
      "|summary|               age|   Sex|\n",
      "+-------+------------------+------+\n",
      "|  count|               714|   891|\n",
      "|   mean| 29.69911764705882|  null|\n",
      "| stddev|14.526497332334035|  null|\n",
      "|    min|              0.42|female|\n",
      "|    max|              80.0|  male|\n",
      "+-------+------------------+------+\n",
      "\n"
     ]
    }
   ],
   "source": [
    "df.describe(\"age\", \"Sex\").show()"
   ]
  },
  {
   "cell_type": "code",
   "execution_count": 28,
   "metadata": {},
   "outputs": [
    {
     "name": "stdout",
     "output_type": "stream",
     "text": [
      "+--------+-----+\n",
      "|Survived|count|\n",
      "+--------+-----+\n",
      "|       1|  342|\n",
      "|       0|  549|\n",
      "+--------+-----+\n",
      "\n"
     ]
    }
   ],
   "source": [
    "df.groupBy(\"Survived\").count().show()"
   ]
  },
  {
   "cell_type": "code",
   "execution_count": 29,
   "metadata": {
    "scrolled": true
   },
   "outputs": [
    {
     "name": "stdout",
     "output_type": "stream",
     "text": [
      "+------+--------+-----+\n",
      "|Pclass|Survived|count|\n",
      "+------+--------+-----+\n",
      "|     1|       0|   80|\n",
      "|     1|       1|  136|\n",
      "|     2|       0|   97|\n",
      "|     2|       1|   87|\n",
      "|     3|       0|  372|\n",
      "|     3|       1|  119|\n",
      "+------+--------+-----+\n",
      "\n"
     ]
    }
   ],
   "source": [
    "df.groupBy(\"Pclass\", \"Survived\").count().orderBy(\"Pclass\", \"Survived\").show()"
   ]
  },
  {
   "cell_type": "markdown",
   "metadata": {},
   "source": [
    "### Column별 Null Check"
   ]
  },
  {
   "cell_type": "code",
   "execution_count": 31,
   "metadata": {},
   "outputs": [
    {
     "name": "stdout",
     "output_type": "stream",
     "text": [
      "+-----------+--------+------+----+---+---+-----+-----+------+----+-----+--------+\n",
      "|PassengerId|Survived|Pclass|Name|Sex|Age|SibSp|Parch|Ticket|Fare|Cabin|Embarked|\n",
      "+-----------+--------+------+----+---+---+-----+-----+------+----+-----+--------+\n",
      "|          0|       0|     0|   0|  0|177|    0|    0|     0|   0|  687|       2|\n",
      "+-----------+--------+------+----+---+---+-----+-----+------+----+-----+--------+\n",
      "\n"
     ]
    }
   ],
   "source": [
    "df.select(*(\n",
    "    sum(col(c).isNull().cast(\"int\")).alias(c)\n",
    "    for c in df.columns)).show()"
   ]
  },
  {
   "cell_type": "markdown",
   "metadata": {},
   "source": [
    "### SQL"
   ]
  },
  {
   "cell_type": "code",
   "execution_count": 32,
   "metadata": {},
   "outputs": [
    {
     "name": "stdout",
     "output_type": "stream",
     "text": [
      "+--------+-----+\n",
      "|Embarked|count|\n",
      "+--------+-----+\n",
      "|       Q|   30|\n",
      "|    null|    2|\n",
      "|       C|   93|\n",
      "|       S|  217|\n",
      "+--------+-----+\n",
      "\n"
     ]
    }
   ],
   "source": [
    "query = \"\"\"\n",
    "SELECT Embarked, count(PassengerId) as count\n",
    "FROM train\n",
    "WHERE Survived = 1\n",
    "GROUP BY Embarked\n",
    "\"\"\"\n",
    "\n",
    "spark.sql(query).show()"
   ]
  },
  {
   "cell_type": "markdown",
   "metadata": {},
   "source": [
    "### Dataframe\n",
    "- filter, groupby, count"
   ]
  },
  {
   "cell_type": "code",
   "execution_count": 44,
   "metadata": {},
   "outputs": [
    {
     "name": "stdout",
     "output_type": "stream",
     "text": [
      "+--------+-----+\n",
      "|Embarked|count|\n",
      "+--------+-----+\n",
      "|       Q|   30|\n",
      "|    null|    2|\n",
      "|       C|   93|\n",
      "|       S|  217|\n",
      "+--------+-----+\n",
      "\n"
     ]
    }
   ],
   "source": [
    "df.filter(\"Survived == 1\").groupBy(\"Embarked\").count().show()"
   ]
  },
  {
   "cell_type": "code",
   "execution_count": 45,
   "metadata": {},
   "outputs": [
    {
     "name": "stdout",
     "output_type": "stream",
     "text": [
      "+------+-----+\n",
      "|PClass|count|\n",
      "+------+-----+\n",
      "|     1|  136|\n",
      "|     3|  119|\n",
      "|     2|   87|\n",
      "+------+-----+\n",
      "\n"
     ]
    }
   ],
   "source": [
    "df.filter(\"Survived == 1\").groupby(\"PClass\").count().show()"
   ]
  },
  {
   "cell_type": "markdown",
   "metadata": {},
   "source": [
    "### Missing Value\n",
    "- [pyspark.sql.DataFrameNaFunctions](http://spark.apache.org/docs/latest/api/python/pyspark.sql.html#pyspark.sql.DataFrameNaFunctions)\n",
    "- Spark ML의 [Imputer](http://spark.apache.org/docs/latest/api/python/pyspark.ml.html?highlight=imputer#pyspark.ml.feature.Imputer)도 사용 가능"
   ]
  },
  {
   "cell_type": "markdown",
   "metadata": {},
   "source": [
    "### Feature Engineering\n",
    "- 1) UDF(User Define Function)을 만들어 원하는 형태로 전처리\n",
    "- 2) correlation, corvariance, stratified sampling 등은 이미 구현되어 있음\n",
    "    - [링크](http://spark.apache.org/docs/latest/api/python/pyspark.sql.html#pyspark.sql.DataFrameStatFunctions) 참고"
   ]
  },
  {
   "cell_type": "code",
   "execution_count": 55,
   "metadata": {},
   "outputs": [
    {
     "name": "stdout",
     "output_type": "stream",
     "text": [
      "Before: 177\n",
      "After 0\n"
     ]
    }
   ],
   "source": [
    "# Column에서 Null값 Drop\n",
    "df = df.drop('cabin')\n",
    "before = df.select('age').where('age is null').count()\n",
    "print(\"Before: {}\".format(before))\n",
    "\n",
    "test = df.na.drop(subset=\"age\")\n",
    "after = test.select('age').where('age is null').count()\n",
    "print(\"After {}\".format(after))"
   ]
  },
  {
   "cell_type": "code",
   "execution_count": 92,
   "metadata": {},
   "outputs": [
    {
     "name": "stdout",
     "output_type": "stream",
     "text": [
      "+----+\n",
      "| age|\n",
      "+----+\n",
      "|22.0|\n",
      "|38.0|\n",
      "|26.0|\n",
      "|35.0|\n",
      "|35.0|\n",
      "+----+\n",
      "only showing top 5 rows\n",
      "\n"
     ]
    }
   ],
   "source": [
    "# Column에서 Null값 mean으로 채우기\n",
    "avg_age = df.where('age is not null').groupBy().avg('age').collect()[0][0]\n",
    "df = df.na.fill({'age': avg_age})\n",
    "df.select('age').show(5)"
   ]
  },
  {
   "cell_type": "markdown",
   "metadata": {},
   "source": [
    "- ```df.where```는 ```df.filter```의 alias"
   ]
  },
  {
   "cell_type": "code",
   "execution_count": 93,
   "metadata": {},
   "outputs": [
    {
     "name": "stdout",
     "output_type": "stream",
     "text": [
      "Before:\n",
      "+--------+-----+\n",
      "|survived|count|\n",
      "+--------+-----+\n",
      "|       1|  342|\n",
      "|       0|  549|\n",
      "+--------+-----+\n",
      "\n",
      "After:\n",
      "+--------+-----+\n",
      "|survived|count|\n",
      "+--------+-----+\n",
      "|       1|  168|\n",
      "|       0|   57|\n",
      "+--------+-----+\n",
      "\n"
     ]
    }
   ],
   "source": [
    "# label을 기준으로 Stratified Sampling\n",
    "sample_df = df.sampleBy('survived', fractions={0: 0.1, 1: 0.5}, seed=0)\n",
    "print(\"Before:\")\n",
    "df.groupBy('survived').count().show()\n",
    "print(\"After:\")\n",
    "sample_df.groupBy('survived').count().show()"
   ]
  },
  {
   "cell_type": "code",
   "execution_count": 95,
   "metadata": {},
   "outputs": [
    {
     "name": "stdout",
     "output_type": "stream",
     "text": [
      "+--------------------+--------+\n",
      "|                name|len_name|\n",
      "+--------------------+--------+\n",
      "|Braund, Mr. Owen ...|      23|\n",
      "|Cumings, Mrs. Joh...|      51|\n",
      "|Heikkinen, Miss. ...|      22|\n",
      "|Futrelle, Mrs. Ja...|      44|\n",
      "|Allen, Mr. Willia...|      24|\n",
      "+--------------------+--------+\n",
      "only showing top 5 rows\n",
      "\n"
     ]
    }
   ],
   "source": [
    "# 승객 이름의 길이를 새로운 feature로 추가하는 예시\n",
    "str_length = udf(lambda x: len(x), IntegerType())\n",
    "df = df.withColumn('len_name', str_length(df['name']))\n",
    "df.select('name', 'len_name').show(5)"
   ]
  },
  {
   "cell_type": "code",
   "execution_count": 96,
   "metadata": {},
   "outputs": [
    {
     "name": "stdout",
     "output_type": "stream",
     "text": [
      "+--------+-----------+\n",
      "|embarked|embarked_ix|\n",
      "+--------+-----------+\n",
      "|       S|          3|\n",
      "|       C|          1|\n",
      "|       S|          3|\n",
      "|       S|          3|\n",
      "|       S|          3|\n",
      "+--------+-----------+\n",
      "only showing top 5 rows\n",
      "\n"
     ]
    }
   ],
   "source": [
    "# udf를 사용해서 categorical feature를 전처리하는 예시\n",
    "# Spark ML의 StringIndexer를 사용해도 결과는 동일\n",
    "\n",
    "def embarked_to_int(embarked):\n",
    "    if embarked == 'C': return 1\n",
    "    elif embarked == 'Q': return 2\n",
    "    elif embarked == 'S': return 3    \n",
    "    else: return 0\n",
    "\n",
    "embarked_to_int = udf(embarked_to_int, IntegerType())\n",
    "df = df.withColumn('embarked_ix', embarked_to_int(df['embarked']))\n",
    "df.select('embarked', 'embarked_ix').show(5)"
   ]
  },
  {
   "cell_type": "code",
   "execution_count": 97,
   "metadata": {},
   "outputs": [],
   "source": [
    "# StringIndexer 사용\n",
    "from pyspark.ml.feature import StringIndexer"
   ]
  },
  {
   "cell_type": "code",
   "execution_count": 98,
   "metadata": {},
   "outputs": [],
   "source": [
    "indexer = StringIndexer(inputCol=\"Embarked\", outputCol=\"embarked_ix2\")"
   ]
  },
  {
   "cell_type": "code",
   "execution_count": 99,
   "metadata": {},
   "outputs": [],
   "source": [
    "indexed = indexer.fit(df).transform(df)"
   ]
  },
  {
   "cell_type": "code",
   "execution_count": 100,
   "metadata": {},
   "outputs": [
    {
     "name": "stdout",
     "output_type": "stream",
     "text": [
      "+--------+------------+\n",
      "|Embarked|embarked_ix2|\n",
      "+--------+------------+\n",
      "|       S|         0.0|\n",
      "|       C|         1.0|\n",
      "|       S|         0.0|\n",
      "|       S|         0.0|\n",
      "|       S|         0.0|\n",
      "+--------+------------+\n",
      "only showing top 5 rows\n",
      "\n"
     ]
    }
   ],
   "source": [
    "indexed.select('Embarked','embarked_ix2').show(5)"
   ]
  },
  {
   "cell_type": "code",
   "execution_count": 101,
   "metadata": {},
   "outputs": [
    {
     "name": "stdout",
     "output_type": "stream",
     "text": [
      "+------+------+\n",
      "|   sex|sex_ix|\n",
      "+------+------+\n",
      "|  male|     0|\n",
      "|female|     1|\n",
      "|female|     1|\n",
      "|female|     1|\n",
      "|  male|     0|\n",
      "+------+------+\n",
      "only showing top 5 rows\n",
      "\n"
     ]
    }
   ],
   "source": [
    "# Spark SQL Function의 when-otherwise 절을 사용하는 방법\n",
    "# categorical feature를 전처리하는 예시\n",
    "df.select('sex', \n",
    "    when(df['sex'] == 'male', 0).otherwise(1).alias('sex_ix')).show(5)"
   ]
  },
  {
   "cell_type": "markdown",
   "metadata": {},
   "source": [
    "- ```when```으로 조건주기"
   ]
  },
  {
   "cell_type": "markdown",
   "metadata": {},
   "source": [
    "### Extraction\n",
    "- raw 데이터에서 feature 추출하는 패키지\n",
    "- [공식 문서](http://spark.apache.org/docs/latest/api/python/pyspark.ml.html#module-pyspark.ml.feature)\n",
    "- TF-IDF, Word2Vec, CountVectorizer, FeatureHasher\n",
    "\n",
    "### Transformation\n",
    "- feature를 변형시키는 패키지\n",
    "- scaling, coverting\n",
    "- Tokenizer, StopWordsRemover, n-gram, PCA, StringIndexer, OneHotEncoder\n",
    "- StandardScaler, MinMaxScaler\n",
    "\n",
    "### Selection\n",
    "- feature selection을 지원하는 패키지\n",
    "- feature가 많을 경우 유용\n",
    "- VectorSlicer, RFormula, ChiSqSelector"
   ]
  },
  {
   "cell_type": "code",
   "execution_count": 102,
   "metadata": {},
   "outputs": [],
   "source": [
    "from pyspark.ml.feature import StringIndexer\n",
    "from pyspark.ml.feature import VectorAssembler"
   ]
  },
  {
   "cell_type": "code",
   "execution_count": 104,
   "metadata": {},
   "outputs": [
    {
     "name": "stdout",
     "output_type": "stream",
     "text": [
      "+------+------+\n",
      "|   Sex|sex_ix|\n",
      "+------+------+\n",
      "|  male|   0.0|\n",
      "|female|   1.0|\n",
      "|female|   1.0|\n",
      "|female|   1.0|\n",
      "|  male|   0.0|\n",
      "+------+------+\n",
      "only showing top 5 rows\n",
      "\n"
     ]
    }
   ],
   "source": [
    "# StringIndexer를 사용해서 categorical feature를 전처리\n",
    "df = StringIndexer(inputCol='Sex', outputCol='sex_ix').fit(df).transform(df)\n",
    "df.select('Sex', 'sex_ix').show(5)"
   ]
  },
  {
   "cell_type": "code",
   "execution_count": 105,
   "metadata": {},
   "outputs": [],
   "source": [
    "# VectorAssembler를 사용해서 feature를 vector 형태로 변환\n",
    "inputCols = ['Pclass', 'Age', 'SibSp', 'Parch', 'Fare', 'embarked_ix', 'sex_ix', 'len_name']\n",
    "assembler = VectorAssembler(inputCols=inputCols, outputCol='features')"
   ]
  },
  {
   "cell_type": "code",
   "execution_count": 106,
   "metadata": {
    "scrolled": false
   },
   "outputs": [
    {
     "name": "stdout",
     "output_type": "stream",
     "text": [
      "+-----------+-----+--------------------+\n",
      "|PassengerId|label|            features|\n",
      "+-----------+-----+--------------------+\n",
      "|          1|    0|[3.0,22.0,1.0,0.0...|\n",
      "|          2|    1|[1.0,38.0,1.0,0.0...|\n",
      "|          3|    1|[3.0,26.0,0.0,0.0...|\n",
      "|          4|    1|[1.0,35.0,1.0,0.0...|\n",
      "|          5|    0|[3.0,35.0,0.0,0.0...|\n",
      "+-----------+-----+--------------------+\n",
      "only showing top 5 rows\n",
      "\n"
     ]
    }
   ],
   "source": [
    "train = assembler.transform(df).select('PassengerId', col('Survived').alias('label'), 'features')\n",
    "train.show(5)"
   ]
  },
  {
   "cell_type": "markdown",
   "metadata": {},
   "source": [
    "### Modeling\n",
    "- [classification 문서](http://spark.apache.org/docs/latest/api/python/pyspark.ml.html#module-pyspark.ml.classification)\n",
    "- 대부분 Data parallelism을 통해 분산 학습\n",
    "- Spark 2.3부터 model parallelism 지원(모델 병렬화)"
   ]
  },
  {
   "cell_type": "markdown",
   "metadata": {},
   "source": [
    "### Classification, Regression\n",
    "- 트리 모델: DecisionTree, RandomForest, GBTClassifier\n",
    "- SVM 모델: LinearSVC, OneVsRest\n",
    "- MultilayerPerceptronClassifier: hidden layer가 없는 Softmax 모델\n",
    "- LinearRegression, SurvivalRegression, NaiveBayes"
   ]
  },
  {
   "cell_type": "markdown",
   "metadata": {},
   "source": [
    "### Clustering\n",
    "- 다양한 클러스터링 알고리즘을 지원\n",
    "- KMeans, LDA, GMM\n",
    "- 이전에는 computeCost 함수를 통해 SSE로 모델을 평가\n",
    "- 2.3 버전부터 ClusteringEvaluator 사용 가능\n",
    "\n",
    "### Recommendation\n",
    "- CF 방식의 Alternating Least Squares(ALS) 추천 알고리즘을 지원\n",
    "- \"Large-Scale Parallel Collaborative Filtering for the Netflix Prize\" 논문을 참고\n",
    "- Production에 쉽게 연동할 수 있게 만든 Apache PredictionIO도 참고 (MLlib)"
   ]
  },
  {
   "cell_type": "code",
   "execution_count": 108,
   "metadata": {},
   "outputs": [],
   "source": [
    "from pyspark.ml.classification import RandomForestClassifier"
   ]
  },
  {
   "cell_type": "code",
   "execution_count": 109,
   "metadata": {},
   "outputs": [
    {
     "name": "stdout",
     "output_type": "stream",
     "text": [
      "+-----------+-----+--------------------+--------------------+--------------------+----------+\n",
      "|PassengerId|label|            features|       rawPrediction|         probability|prediction|\n",
      "+-----------+-----+--------------------+--------------------+--------------------+----------+\n",
      "|         22|    1|[2.0,34.0,0.0,0.0...|[17.3006752634910...|[0.86503376317455...|       0.0|\n",
      "|         25|    0|[3.0,8.0,3.0,1.0,...|[15.4203833201276...|[0.77101916600638...|       0.0|\n",
      "|         28|    0|[1.0,19.0,3.0,2.0...|[8.33806528847363...|[0.41690326442368...|       1.0|\n",
      "|         39|    0|[3.0,18.0,2.0,0.0...|[10.0694063466503...|[0.50347031733251...|       0.0|\n",
      "|         44|    1|[2.0,3.0,1.0,2.0,...|[3.43605630898893...|[0.17180281544944...|       1.0|\n",
      "+-----------+-----+--------------------+--------------------+--------------------+----------+\n",
      "only showing top 5 rows\n",
      "\n"
     ]
    }
   ],
   "source": [
    "# RandomForestClassifier 예제\n",
    "# training set을 row 단위로 partitioning\n",
    "splits = train.randomSplit([0.8, 0.2])\n",
    "train = splits[0].cache()\n",
    "test = splits[1].cache()\n",
    "\n",
    "# cacheNodeIds: 인스턴스 마다 노드의 Id를 캐싱, 트리가 깊어진다면 성능 향상 팁\n",
    "model = RandomForestClassifier(\n",
    "    labelCol=\"label\",\n",
    "    featuresCol=\"features\",\n",
    "    cacheNodeIds=True)\n",
    "\n",
    "predict = model.fit(train).transform(test)\n",
    "predict.show(5)"
   ]
  },
  {
   "cell_type": "markdown",
   "metadata": {},
   "source": [
    "### Evaluation\n",
    "- [문서](http://spark.apache.org/docs/latest/api/python/pyspark.ml.html#module-pyspark.ml.evaluation)\n",
    "- 모델을 평가하기 위한 패키지, 사용할 수 있는 metric을 확인할 필요가 있음\n",
    "- BinaryClassificationEvaluator: areaUnderROC만 사용 가능\n",
    "- MulticlassClassificationEvaluator: f1, weightedPrecision, weightedRecall, accuracy\n",
    "- RegressionEvaluator: rmse, mse, mae\n",
    "- ClusteringEvaluator: 2.3 버전에 새롭게 추가, metric으로 silhouette 사용 가능\n",
    "- confusionMatrix() 등 몇 가지는 아직 Spark MLlib에만 존재함"
   ]
  },
  {
   "cell_type": "code",
   "execution_count": 110,
   "metadata": {},
   "outputs": [
    {
     "data": {
      "text/plain": [
       "0.8165680473372781"
      ]
     },
     "execution_count": 110,
     "metadata": {},
     "output_type": "execute_result"
    }
   ],
   "source": [
    "from pyspark.ml.evaluation import MulticlassClassificationEvaluator\n",
    "\n",
    "evaluator = MulticlassClassificationEvaluator(\n",
    "    predictionCol=\"prediction\", \n",
    "    labelCol=\"label\", \n",
    "    metricName=\"accuracy\")\n",
    "\n",
    "evaluator.evaluate(predict)"
   ]
  },
  {
   "cell_type": "markdown",
   "metadata": {},
   "source": [
    "### Tuning\n",
    "- model selection and hyperparameter tuning\n",
    "- [문서](http://spark.apache.org/docs/latest/api/python/pyspark.ml.html#module-pyspark.ml.tuning)\n",
    "- 지정한 parameter의 조합에 대하여 반복 학습하는 형태\n",
    "- 원래 data parallelism 만 지원했지만, 2.3버전부터 model parallelism도 지원하기 시작\n",
    "- CrossValidator와 TrainValidationSplit에 parallelism 파라메터 지정"
   ]
  },
  {
   "cell_type": "markdown",
   "metadata": {},
   "source": [
    "### ParamGridBuilder\n",
    "- 파라메터를 자동으로 튜닝하기 위한 빌더 패키지 (Grid Search)\n",
    "- 각 모델에 대한 파라메터는 spark.ml.param module\n",
    "\n",
    "### CrossValidator\n",
    "- K-Fold CrossValidation 그 자체 (위키 참고)\n",
    "- 지정한 Fold 만큼 반복 학습\n",
    "\n",
    "### TrainValidationSplit (Experimental)\n",
    "- 지정한 비율에 따라 훈련/검증 셋을 나누어 학습에 반영\n",
    "- CrossValidator에 비해 금방 끝나겠지만, 주어진 학습 데이터가 적다면 결과가 부정확할 수 있음"
   ]
  },
  {
   "cell_type": "code",
   "execution_count": 111,
   "metadata": {},
   "outputs": [],
   "source": [
    "from pyspark.ml.tuning import TrainValidationSplit\n",
    "from pyspark.ml.tuning import ParamGridBuilder\n",
    "from pyspark.ml.evaluation import MulticlassClassificationEvaluator"
   ]
  },
  {
   "cell_type": "code",
   "execution_count": 112,
   "metadata": {},
   "outputs": [
    {
     "data": {
      "text/plain": [
       "0.8224852071005917"
      ]
     },
     "execution_count": 112,
     "metadata": {},
     "output_type": "execute_result"
    }
   ],
   "source": [
    "# Modeling\n",
    "model = RandomForestClassifier(\n",
    "    labelCol=\"label\",\n",
    "    featuresCol=\"features\",\n",
    "    cacheNodeIds=True)\n",
    "\n",
    "# Parameter tuning\n",
    "paramGrid = ParamGridBuilder() \\\n",
    "    .addGrid(model.numTrees, [500, 700]) \\\n",
    "    .addGrid(model.maxDepth, [5, 7]) \\\n",
    "    .addGrid(model.impurity, [\"gini\"]) \\\n",
    "    .addGrid(model.maxBins, [31]) \\\n",
    "    .addGrid(model.subsamplingRate, [0.7]) \\\n",
    "    .build()\n",
    "\n",
    "# Evaluator: accuracy\n",
    "evaluator = MulticlassClassificationEvaluator(\n",
    "    predictionCol=\"prediction\", \n",
    "    labelCol=\"label\", \n",
    "    metricName=\"accuracy\")\n",
    "\n",
    "# train:validation = 7:3\n",
    "tvs = TrainValidationSplit(\n",
    "    estimator=model,\n",
    "    estimatorParamMaps=paramGrid,\n",
    "    evaluator=evaluator,\n",
    "    trainRatio=0.7)\n",
    "\n",
    "tvsModel = tvs.fit(train)\n",
    "predict = tvsModel.transform(test)\n",
    "evaluator.evaluate(predict)"
   ]
  },
  {
   "cell_type": "code",
   "execution_count": 113,
   "metadata": {},
   "outputs": [
    {
     "data": {
      "text/plain": [
       "DataFrame[PassengerId: int, Survived: int, Pclass: int, Name: string, Sex: string, Age: double, SibSp: int, Parch: int, Ticket: string, Fare: double, Embarked: string, len_name: int, embarked_ix: int, sex_ix: double]"
      ]
     },
     "execution_count": 113,
     "metadata": {},
     "output_type": "execute_result"
    }
   ],
   "source": [
    "train.unpersist()\n",
    "test.unpersist()\n",
    "df.unpersist()"
   ]
  },
  {
   "cell_type": "code",
   "execution_count": 114,
   "metadata": {},
   "outputs": [],
   "source": [
    "spark.stop()"
   ]
  },
  {
   "cell_type": "markdown",
   "metadata": {},
   "source": [
    "## Reference\n",
    "- 박준영님 [Repo](https://github.com/Swalloow/pyspark-ml-examples/blob/master/notebooks/spark-ml-starter.ipynb)"
   ]
  }
 ],
 "metadata": {
  "kernelspec": {
   "display_name": "Python 3",
   "language": "python",
   "name": "python3"
  },
  "language_info": {
   "codemirror_mode": {
    "name": "ipython",
    "version": 3
   },
   "file_extension": ".py",
   "mimetype": "text/x-python",
   "name": "python",
   "nbconvert_exporter": "python",
   "pygments_lexer": "ipython3",
   "version": "3.6.5"
  },
  "varInspector": {
   "cols": {
    "lenName": 16,
    "lenType": 16,
    "lenVar": 40
   },
   "kernels_config": {
    "python": {
     "delete_cmd_postfix": "",
     "delete_cmd_prefix": "del ",
     "library": "var_list.py",
     "varRefreshCmd": "print(var_dic_list())"
    },
    "r": {
     "delete_cmd_postfix": ") ",
     "delete_cmd_prefix": "rm(",
     "library": "var_list.r",
     "varRefreshCmd": "cat(var_dic_list()) "
    }
   },
   "types_to_exclude": [
    "module",
    "function",
    "builtin_function_or_method",
    "instance",
    "_Feature"
   ],
   "window_display": false
  }
 },
 "nbformat": 4,
 "nbformat_minor": 2
}
