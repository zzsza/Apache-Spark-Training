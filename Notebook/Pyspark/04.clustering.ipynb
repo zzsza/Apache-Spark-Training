{
 "cells": [
  {
   "cell_type": "markdown",
   "metadata": {},
   "source": [
    "## Anomaly Detection in Network Trac with K-means Clustering\n",
    "- http://www.kdd.org/kdd-cup/view/kdd-cup-1999/Data"
   ]
  },
  {
   "cell_type": "code",
   "execution_count": 10,
   "metadata": {},
   "outputs": [],
   "source": [
    "from pyspark.conf import SparkConf\n",
    "from pyspark import StorageLevel\n",
    "\n",
    "from pyspark.sql import SparkSession\n",
    "from pyspark.sql.functions import *\n",
    "# from pyspark.sql.types import *\n",
    "from pyspark.ml.feature import VectorAssembler\n",
    "from pyspark.ml.feature import StandardScaler\n",
    "from pyspark.ml.clustering import KMeans, KMeansModel\n",
    "from pyspark.ml import Pipeline\n",
    "\n",
    "import random\n"
   ]
  },
  {
   "cell_type": "code",
   "execution_count": 2,
   "metadata": {},
   "outputs": [],
   "source": [
    "spark = SparkSession.builder \\\n",
    "    .master(\"local\") \\\n",
    "    .appName(\"Clustering\") \\\n",
    "    .getOrCreate()\n",
    "\n",
    "sc = spark.sparkContext\n",
    "sc.setLogLevel(\"INFO\")"
   ]
  },
  {
   "cell_type": "code",
   "execution_count": 3,
   "metadata": {},
   "outputs": [],
   "source": [
    "df = spark.read.csv(\"../data/kddcup.data_10_percent.txt\", inferSchema=True, sep=\",\").toDF(\n",
    "    \"duration\", \"protocol_type\", \"service\", \"flag\", \"src_bytes\",\n",
    "    \"dst_bytes\", \"land\", \"wrong_fragment\", \"urgent\",\n",
    "    \"hot\", \"num_failed_logins\", \"logged_in\", \"num_compromised\",\n",
    "    \"root_shell\", \"su_attempted\", \"num_root\", \"num_file_creations\",\n",
    "    \"num_shells\", \"num_access_files\", \"num_outbound_cmds\",\n",
    "    \"is_host_login\", \"is_guest_login\", \"count\", \"srv_count\",\n",
    "    \"serror_rate\", \"srv_serror_rate\", \"rerror_rate\", \"srv_rerror_rate\",\n",
    "    \"same_srv_rate\", \"diff_srv_rate\", \"srv_diff_host_rate\",\n",
    "    \"dst_host_count\", \"dst_host_srv_count\",\n",
    "    \"dst_host_same_srv_rate\", \"dst_host_diff_srv_rate\",\n",
    "    \"dst_host_same_src_port_rate\", \"dst_host_srv_diff_host_rate\",\n",
    "    \"dst_host_serror_rate\", \"dst_host_srv_serror_rate\",\n",
    "    \"dst_host_rerror_rate\", \"dst_host_srv_rerror_rate\", \"label\")"
   ]
  },
  {
   "cell_type": "code",
   "execution_count": 4,
   "metadata": {},
   "outputs": [
    {
     "name": "stdout",
     "output_type": "stream",
     "text": [
      "Number of training data: 494021\n",
      "root\n",
      " |-- duration: integer (nullable = true)\n",
      " |-- protocol_type: string (nullable = true)\n",
      " |-- service: string (nullable = true)\n",
      " |-- flag: string (nullable = true)\n",
      " |-- src_bytes: integer (nullable = true)\n",
      " |-- dst_bytes: integer (nullable = true)\n",
      " |-- land: integer (nullable = true)\n",
      " |-- wrong_fragment: integer (nullable = true)\n",
      " |-- urgent: integer (nullable = true)\n",
      " |-- hot: integer (nullable = true)\n",
      " |-- num_failed_logins: integer (nullable = true)\n",
      " |-- logged_in: integer (nullable = true)\n",
      " |-- num_compromised: integer (nullable = true)\n",
      " |-- root_shell: integer (nullable = true)\n",
      " |-- su_attempted: integer (nullable = true)\n",
      " |-- num_root: string (nullable = true)\n",
      " |-- num_file_creations: string (nullable = true)\n",
      " |-- num_shells: string (nullable = true)\n",
      " |-- num_access_files: integer (nullable = true)\n",
      " |-- num_outbound_cmds: integer (nullable = true)\n",
      " |-- is_host_login: integer (nullable = true)\n",
      " |-- is_guest_login: integer (nullable = true)\n",
      " |-- count: integer (nullable = true)\n",
      " |-- srv_count: integer (nullable = true)\n",
      " |-- serror_rate: double (nullable = true)\n",
      " |-- srv_serror_rate: double (nullable = true)\n",
      " |-- rerror_rate: double (nullable = true)\n",
      " |-- srv_rerror_rate: double (nullable = true)\n",
      " |-- same_srv_rate: double (nullable = true)\n",
      " |-- diff_srv_rate: double (nullable = true)\n",
      " |-- srv_diff_host_rate: double (nullable = true)\n",
      " |-- dst_host_count: integer (nullable = true)\n",
      " |-- dst_host_srv_count: integer (nullable = true)\n",
      " |-- dst_host_same_srv_rate: double (nullable = true)\n",
      " |-- dst_host_diff_srv_rate: double (nullable = true)\n",
      " |-- dst_host_same_src_port_rate: double (nullable = true)\n",
      " |-- dst_host_srv_diff_host_rate: double (nullable = true)\n",
      " |-- dst_host_serror_rate: double (nullable = true)\n",
      " |-- dst_host_srv_serror_rate: double (nullable = true)\n",
      " |-- dst_host_rerror_rate: double (nullable = true)\n",
      " |-- dst_host_srv_rerror_rate: double (nullable = true)\n",
      " |-- label: string (nullable = true)\n",
      "\n"
     ]
    }
   ],
   "source": [
    "print(\"Number of training data: {}\".format(df.count()))\n",
    "df.printSchema()"
   ]
  },
  {
   "cell_type": "code",
   "execution_count": 7,
   "metadata": {},
   "outputs": [
    {
     "name": "stdout",
     "output_type": "stream",
     "text": [
      "+--------+-------------+-------+----+---------+---------+----+--------------+------+---+-----------------+---------+---------------+----------+------------+--------+------------------+----------+----------------+-----------------+-------------+--------------+-----+---------+-----------+---------------+-----------+---------------+-------------+-------------+------------------+--------------+------------------+----------------------+----------------------+---------------------------+---------------------------+--------------------+------------------------+--------------------+------------------------+-------+\n",
      "|duration|protocol_type|service|flag|src_bytes|dst_bytes|land|wrong_fragment|urgent|hot|num_failed_logins|logged_in|num_compromised|root_shell|su_attempted|num_root|num_file_creations|num_shells|num_access_files|num_outbound_cmds|is_host_login|is_guest_login|count|srv_count|serror_rate|srv_serror_rate|rerror_rate|srv_rerror_rate|same_srv_rate|diff_srv_rate|srv_diff_host_rate|dst_host_count|dst_host_srv_count|dst_host_same_srv_rate|dst_host_diff_srv_rate|dst_host_same_src_port_rate|dst_host_srv_diff_host_rate|dst_host_serror_rate|dst_host_srv_serror_rate|dst_host_rerror_rate|dst_host_srv_rerror_rate|  label|\n",
      "+--------+-------------+-------+----+---------+---------+----+--------------+------+---+-----------------+---------+---------------+----------+------------+--------+------------------+----------+----------------+-----------------+-------------+--------------+-----+---------+-----------+---------------+-----------+---------------+-------------+-------------+------------------+--------------+------------------+----------------------+----------------------+---------------------------+---------------------------+--------------------+------------------------+--------------------+------------------------+-------+\n",
      "|       0|          tcp|   http|  SF|      181|     5450|   0|             0|     0|  0|                0|        1|              0|         0|           0|       0|                 0|         0|               0|                0|            0|             0|    8|        8|        0.0|            0.0|        0.0|            0.0|          1.0|          0.0|               0.0|             9|                 9|                   1.0|                   0.0|                       0.11|                        0.0|                 0.0|                     0.0|                 0.0|                     0.0|normal.|\n",
      "|       0|          tcp|   http|  SF|      239|      486|   0|             0|     0|  0|                0|        1|              0|         0|           0|       0|                 0|         0|               0|                0|            0|             0|    8|        8|        0.0|            0.0|        0.0|            0.0|          1.0|          0.0|               0.0|            19|                19|                   1.0|                   0.0|                       0.05|                        0.0|                 0.0|                     0.0|                 0.0|                     0.0|normal.|\n",
      "|       0|          tcp|   http|  SF|      235|     1337|   0|             0|     0|  0|                0|        1|              0|         0|           0|       0|                 0|         0|               0|                0|            0|             0|    8|        8|        0.0|            0.0|        0.0|            0.0|          1.0|          0.0|               0.0|            29|                29|                   1.0|                   0.0|                       0.03|                        0.0|                 0.0|                     0.0|                 0.0|                     0.0|normal.|\n",
      "+--------+-------------+-------+----+---------+---------+----+--------------+------+---+-----------------+---------+---------------+----------+------------+--------+------------------+----------+----------------+-----------------+-------------+--------------+-----+---------+-----------+---------------+-----------+---------------+-------------+-------------+------------------+--------------+------------------+----------------------+----------------------+---------------------------+---------------------------+--------------------+------------------------+--------------------+------------------------+-------+\n",
      "only showing top 3 rows\n",
      "\n"
     ]
    }
   ],
   "source": [
    "df.show(3)"
   ]
  },
  {
   "cell_type": "code",
   "execution_count": 5,
   "metadata": {},
   "outputs": [
    {
     "name": "stdout",
     "output_type": "stream",
     "text": [
      "+----------------+------+\n",
      "|           label| count|\n",
      "+----------------+------+\n",
      "|          smurf.|280790|\n",
      "|        neptune.|107201|\n",
      "|         normal.| 97277|\n",
      "|           back.|  2203|\n",
      "|          satan.|  1589|\n",
      "|        ipsweep.|  1247|\n",
      "|      portsweep.|  1040|\n",
      "|    warezclient.|  1020|\n",
      "|       teardrop.|   979|\n",
      "|            pod.|   264|\n",
      "|           nmap.|   231|\n",
      "|   guess_passwd.|    53|\n",
      "|buffer_overflow.|    30|\n",
      "|           land.|    21|\n",
      "|    warezmaster.|    20|\n",
      "|           imap.|    12|\n",
      "|        rootkit.|    10|\n",
      "|     loadmodule.|     9|\n",
      "|      ftp_write.|     8|\n",
      "|       multihop.|     7|\n",
      "|            phf.|     4|\n",
      "|           perl.|     3|\n",
      "|            spy.|     2|\n",
      "|            0.00|     1|\n",
      "+----------------+------+\n",
      "\n"
     ]
    }
   ],
   "source": [
    "df.select(\"label\").groupBy(\"label\").count().orderBy(desc(\"count\")).show(25)"
   ]
  },
  {
   "cell_type": "code",
   "execution_count": 8,
   "metadata": {},
   "outputs": [],
   "source": [
    "# Only numeric\n",
    "df = df.withColumn(\"num_root\", df.num_root.cast(\"int\"))\n",
    "df = df.withColumn(\"num_file_creations\", df.num_root.cast(\"int\"))\n",
    "df = df.withColumn(\"num_shells\", df.num_root.cast(\"int\"))\n",
    "\n",
    "# Drop null\n",
    "train = df.drop(\"protocol_type\", \"service\", \"flag\").dropna().cache()\n",
    "columns = train.columns\n",
    "columns.remove('label')"
   ]
  },
  {
   "cell_type": "code",
   "execution_count": 11,
   "metadata": {},
   "outputs": [
    {
     "data": {
      "text/plain": [
       "KMeans_480f98b472486f05f440"
      ]
     },
     "execution_count": 11,
     "metadata": {},
     "output_type": "execute_result"
    }
   ],
   "source": [
    "# VectorAssembler\n",
    "assembler = VectorAssembler(\n",
    "    inputCols=columns,\n",
    "    outputCol='features')\n",
    "\n",
    "# StandardScaler\n",
    "scaler = StandardScaler(\n",
    "    inputCol='features',\n",
    "    outputCol='scaled_features',\n",
    "    withStd=True,\n",
    "    withMean=True)\n",
    "\n",
    "# KMeans\n",
    "kmeans = KMeans(\n",
    "    featuresCol='scaled_features',\n",
    "    predictionCol='cluster',\n",
    "    maxIter=30,\n",
    "    seed=random.randrange(1,10))\n",
    "kmeans.setK(3)"
   ]
  },
  {
   "cell_type": "code",
   "execution_count": 12,
   "metadata": {},
   "outputs": [],
   "source": [
    "pipeline = Pipeline().setStages([assembler, scaler, kmeans])\n",
    "pipelineModel = pipeline.fit(train)\n",
    "kmeansModel = pipelineModel.stages[-1]"
   ]
  },
  {
   "cell_type": "code",
   "execution_count": 13,
   "metadata": {},
   "outputs": [
    {
     "name": "stdout",
     "output_type": "stream",
     "text": [
      "[-0.06779167 -0.00211676 -0.02628241 -0.00667342 -0.04772019 -0.00257147\n",
      " -0.04413591 -0.00978218 -0.41718843 -0.00567868 -0.01055195 -0.00467567\n",
      " -0.00564001 -0.00564001 -0.00564001 -0.02763182  0.          0.\n",
      " -0.03726266  0.81625548  0.86634943 -0.46408985 -0.46352057 -0.24796049\n",
      " -0.2486313   0.53691515 -0.25511113 -0.20356242  0.34755699  0.62439493\n",
      "  0.59842288 -0.2823769   0.82281462 -0.15862339 -0.46439018 -0.46320249\n",
      " -0.25193814 -0.24946402]\n",
      "[ 0.19983821  0.00309251 -0.02605623 -0.004087   -0.02857926 -0.00257147\n",
      " -0.0439704  -0.00700191 -0.41473558 -0.0056115  -0.01055195 -0.00467567\n",
      " -0.00545136 -0.00545136 -0.00545136 -0.02763182  0.          0.\n",
      " -0.03726266 -0.71091765 -1.1473152   1.51034301  1.50794494  0.59904634\n",
      "  0.59617813 -1.74350703  0.77326679 -0.20157484  0.33893612 -1.67921651\n",
      " -1.73370146  0.78457492 -1.13837302 -0.15722012  1.50946569  1.50869869\n",
      "  0.59803101  0.60250379]\n",
      "[-0.04217291  0.00245364  0.10768047  0.02431165  0.17307353  0.01056196\n",
      "  0.18108398  0.03684825  1.71060626  0.02324394  0.04334071  0.01920468\n",
      "  0.02293958  0.02293958  0.02293958  0.11349393  0.          0.\n",
      "  0.15305132 -1.52311993 -1.14606196 -0.4591653  -0.45794868  0.0037581\n",
      "  0.00914582  0.52661749 -0.1841524   0.83372385 -1.41721534  0.19508671\n",
      "  0.33592153 -0.11837313 -1.03011557  0.64984291 -0.4572405  -0.45977708\n",
      "  0.01654691  0.00399043]\n"
     ]
    }
   ],
   "source": [
    "print(*kmeansModel.clusterCenters(), sep='\\n')"
   ]
  },
  {
   "cell_type": "code",
   "execution_count": 14,
   "metadata": {},
   "outputs": [
    {
     "name": "stdout",
     "output_type": "stream",
     "text": [
      "+-------+----------------+------+\n",
      "|cluster|           label| count|\n",
      "+-------+----------------+------+\n",
      "|      0|           nmap.|     3|\n",
      "|      0|          satan.|    30|\n",
      "|      0|         normal.|   609|\n",
      "|      0|          smurf.|280774|\n",
      "|      1|   guess_passwd.|     1|\n",
      "|      1|           imap.|     2|\n",
      "|      1|           land.|     2|\n",
      "|      1|    warezclient.|     4|\n",
      "|      1|        ipsweep.|    19|\n",
      "|      1|       teardrop.|   101|\n",
      "|      1|           nmap.|   103|\n",
      "|      1|      portsweep.|  1037|\n",
      "|      1|          satan.|  1539|\n",
      "|      1|         normal.|  5873|\n",
      "|      1|        neptune.|107197|\n",
      "|      2|            spy.|     2|\n",
      "|      2|      portsweep.|     3|\n",
      "|      2|           perl.|     3|\n",
      "|      2|            phf.|     4|\n",
      "|      2|        neptune.|     4|\n",
      "|      2|       multihop.|     7|\n",
      "|      2|      ftp_write.|     8|\n",
      "|      2|     loadmodule.|     9|\n",
      "|      2|        rootkit.|    10|\n",
      "|      2|           imap.|    10|\n",
      "|      2|          smurf.|    16|\n",
      "|      2|           land.|    19|\n",
      "|      2|    warezmaster.|    20|\n",
      "|      2|          satan.|    20|\n",
      "|      2|buffer_overflow.|    30|\n",
      "|      2|   guess_passwd.|    52|\n",
      "|      2|           nmap.|   125|\n",
      "|      2|            pod.|   264|\n",
      "|      2|       teardrop.|   878|\n",
      "|      2|    warezclient.|  1016|\n",
      "|      2|        ipsweep.|  1228|\n",
      "|      2|           back.|  2203|\n",
      "|      2|         normal.| 90795|\n",
      "+-------+----------------+------+\n",
      "\n"
     ]
    }
   ],
   "source": [
    "withCluster = pipelineModel.transform(train)\n",
    "clusterLabel = withCluster.select(\"cluster\", \"label\") \\\n",
    "    .groupBy(\"cluster\", \"label\").count() \\\n",
    "    .orderBy(\"cluster\", \"count\")\n",
    "clusterLabel.show(100)"
   ]
  },
  {
   "cell_type": "code",
   "execution_count": 15,
   "metadata": {},
   "outputs": [
    {
     "name": "stdout",
     "output_type": "stream",
     "text": [
      "+-------+----------+\n",
      "|cluster|sum(count)|\n",
      "+-------+----------+\n",
      "|      0|    281416|\n",
      "|      1|    115878|\n",
      "|      2|     96726|\n",
      "+-------+----------+\n",
      "\n"
     ]
    }
   ],
   "source": [
    "clusterLabel.groupBy('cluster').sum('count').orderBy('cluster').show()"
   ]
  },
  {
   "cell_type": "code",
   "execution_count": null,
   "metadata": {},
   "outputs": [],
   "source": [
    "kmeansModel.summary.clusterSizes"
   ]
  },
  {
   "cell_type": "code",
   "execution_count": 16,
   "metadata": {},
   "outputs": [
    {
     "name": "stdout",
     "output_type": "stream",
     "text": [
      "+-------+--------------------+\n",
      "|cluster|     scaled_features|\n",
      "+-------+--------------------+\n",
      "|      2|[-0.0677917208490...|\n",
      "|      2|[-0.0677917208490...|\n",
      "|      2|[-0.0677917208490...|\n",
      "+-------+--------------------+\n",
      "only showing top 3 rows\n",
      "\n"
     ]
    }
   ],
   "source": [
    "scaled_features = withCluster.select('cluster', 'scaled_features')\n",
    "scaled_features.show(3)"
   ]
  },
  {
   "cell_type": "code",
   "execution_count": 18,
   "metadata": {},
   "outputs": [],
   "source": [
    "spark.stop()"
   ]
  },
  {
   "cell_type": "code",
   "execution_count": null,
   "metadata": {},
   "outputs": [],
   "source": []
  }
 ],
 "metadata": {
  "kernelspec": {
   "display_name": "Python 3",
   "language": "python",
   "name": "python3"
  },
  "language_info": {
   "codemirror_mode": {
    "name": "ipython",
    "version": 3
   },
   "file_extension": ".py",
   "mimetype": "text/x-python",
   "name": "python",
   "nbconvert_exporter": "python",
   "pygments_lexer": "ipython3",
   "version": "3.6.5"
  },
  "varInspector": {
   "cols": {
    "lenName": 16,
    "lenType": 16,
    "lenVar": 40
   },
   "kernels_config": {
    "python": {
     "delete_cmd_postfix": "",
     "delete_cmd_prefix": "del ",
     "library": "var_list.py",
     "varRefreshCmd": "print(var_dic_list())"
    },
    "r": {
     "delete_cmd_postfix": ") ",
     "delete_cmd_prefix": "rm(",
     "library": "var_list.r",
     "varRefreshCmd": "cat(var_dic_list()) "
    }
   },
   "types_to_exclude": [
    "module",
    "function",
    "builtin_function_or_method",
    "instance",
    "_Feature"
   ],
   "window_display": false
  }
 },
 "nbformat": 4,
 "nbformat_minor": 2
}
