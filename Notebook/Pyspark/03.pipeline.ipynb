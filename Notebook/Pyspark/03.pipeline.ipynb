{
 "cells": [
  {
   "cell_type": "markdown",
   "metadata": {},
   "source": [
    "# Spark ML Pipeline"
   ]
  },
  {
   "cell_type": "code",
   "execution_count": 1,
   "metadata": {},
   "outputs": [],
   "source": [
    "from pyspark.sql import SparkSession\n",
    "from pyspark.conf import SparkConf\n",
    "\n",
    "import matplotlib.pyplot as plt\n",
    "\n",
    "import pandas as pd\n",
    "%matplotlib inline\n",
    "%config InlineBackend.figure_format = 'retina'"
   ]
  },
  {
   "cell_type": "code",
   "execution_count": 3,
   "metadata": {},
   "outputs": [],
   "source": [
    "spark = SparkSession.builder \\\n",
    "    .master(\"local\") \\\n",
    "    .appName(\"Spark ML Pipeline\") \\\n",
    "    .getOrCreate()\n",
    "\n",
    "sc = spark.sparkContext\n",
    "sc.setLogLevel(\"INFO\")"
   ]
  },
  {
   "cell_type": "markdown",
   "metadata": {},
   "source": [
    "### Pipelines\n",
    "- http://spark.apache.org/docs/latest/api/python/pyspark.ml.html#module-pyspark.ml\n",
    "- 복잡한 ML 과정을 파이프라인으로 모듈화시키는 패키지\n",
    "\n",
    "### Transformer\n",
    "- Dataframe을 lazily하게 다른 dataframe으로 변형, ```transform()``` 메서드 구현\n",
    "- Feature Engineering에 필요한 알고리즘\n",
    "- 학습이 끝난 model\n",
    "\n",
    "### Estimator\n",
    "- Dataframe을 model에 fitting 시키는 단계, 학습시키는 알고리즘도 이에 해당\n",
    "- 예를 들면 LogsiticREgression은 Estimator\n",
    "- ```fit()``` 함수를 호출해 생성된 LogisticRegressionModel은 Model이자 Transformer\n",
    "\n",
    "### Pipeline\n",
    "- ML을 돌리기 위해 필요한 stage(단계)를 연결시킨 구현체\n",
    "- Transformer, Estimator가 Pipeline의 각 stage에 해당\n",
    "- ```Pipeline.fit()```을 호출하면 각 단계에서 지정한 함수를 순서대로 호출\n",
    "- 마찬가지로 Pipelinemodel은 ```fit()``` 함수를 호출해 생성된 Model"
   ]
  },
  {
   "cell_type": "code",
   "execution_count": 4,
   "metadata": {},
   "outputs": [],
   "source": [
    "from pyspark.sql.functions import *\n",
    "from pyspark.sql.types import IntegerType\n",
    "\n",
    "from pyspark.ml.pipeline import Pipeline\n",
    "from pyspark.ml.feature import StandardScaler, VectorAssembler, Imputer, StringIndexer\n",
    "from pyspark.ml.classification import GBTClassifier\n",
    "from pyspark.ml.tuning import CrossValidator, ParamGridBuilder\n",
    "from pyspark.ml.evaluation import MulticlassClassificationEvaluator"
   ]
  },
  {
   "cell_type": "code",
   "execution_count": 5,
   "metadata": {},
   "outputs": [],
   "source": [
    "# K-Fold value\n",
    "fold = 3\n",
    "\n",
    "# Read train, test dataset\n",
    "inputCols = ['Pclass', 'age_im', 'SibSp', 'Parch', 'Fare', 'embarked_ix', 'sex_ix', 'len_name']\n",
    "str_length = udf(lambda x: len(x), IntegerType())\n",
    "\n",
    "train = spark.read \\\n",
    "    .csv(\"/Users/byeon/Dropbox/workspace/til/data/titanic-train.csv\", header=True, inferSchema=True) \\\n",
    "    .withColumnRenamed(\"Survived\", \"label\") \\\n",
    "    .withColumn('len_name', str_length(col('name'))) \\\n",
    "    .na.drop(subset=[\"Embarked\", \"Fare\"]) \\\n",
    "    .cache()\n",
    "\n",
    "test = spark.read \\\n",
    "    .csv(\"/Users/byeon/Dropbox/workspace/til/data/titanic-test.csv\", header=True, inferSchema=True) \\\n",
    "    .withColumnRenamed(\"Survived\", \"label\") \\\n",
    "    .withColumn('len_name', str_length(col('name'))) \\\n",
    "    .na.drop(subset=[\"Embarked\", \"Fare\"]) \\\n",
    "    .cache()"
   ]
  },
  {
   "cell_type": "markdown",
   "metadata": {},
   "source": [
    "### Operator Define"
   ]
  },
  {
   "cell_type": "code",
   "execution_count": 7,
   "metadata": {},
   "outputs": [],
   "source": [
    "imputer = Imputer(inputCols=['Age'], outputCols=['age_im'], strategy='mean')\n",
    "sex_ix = StringIndexer(inputCol='Sex', outputCol='sex_ix')\n",
    "embarked_ix = StringIndexer(inputCol='Embarked', outputCol='embarked_ix')\n",
    "assembler = VectorAssembler(inputCols=inputCols, outputCol='features')\n",
    "scaler = StandardScaler(inputCol='features', outputCol='scaled_features', withStd=True, withMean=False)\n",
    "model = GBTClassifier(labelCol='label', featuresCol='scaled_features', cacheNodeIds=True)\n",
    "evaluator = MulticlassClassificationEvaluator(predictionCol='prediction', labelCol='label', metricName='accuracy')"
   ]
  },
  {
   "cell_type": "markdown",
   "metadata": {},
   "source": [
    "### Pipeline 설정 후 학습"
   ]
  },
  {
   "cell_type": "code",
   "execution_count": 10,
   "metadata": {
    "scrolled": true
   },
   "outputs": [
    {
     "name": "stdout",
     "output_type": "stream",
     "text": [
      "Make pipeline, model fitting...\n",
      "Model training finished!\n",
      "Cross-validation average score : 0.7848155386836968\n",
      "Best maxDepth parameters : 5\n",
      "Best maxIter parameters : 40\n",
      "Best maxBins parameters : 25\n",
      "CPU times: user 1.95 s, sys: 455 ms, total: 2.41 s\n",
      "Wall time: 3min 1s\n"
     ]
    }
   ],
   "source": [
    "%%time\n",
    "# Pipeline\n",
    "print(\"Make pipeline, model fitting...\")\n",
    "pipeline = Pipeline(\n",
    "    stages=[imputer, sex_ix, embarked_ix, assembler, scaler, model])\n",
    "\n",
    "# K-Fold Cross-validation with Parameter tuning\n",
    "paramGrid = ParamGridBuilder() \\\n",
    "    .addGrid(model.maxDepth, [5, 7]) \\\n",
    "    .addGrid(model.maxIter, [20, 40]) \\\n",
    "    .addGrid(model.maxBins, [25]) \\\n",
    "    .addGrid(model.stepSize, [0.025]) \\\n",
    "    .addGrid(model.subsamplingRate, [0.7]) \\\n",
    "    .build()\n",
    "\n",
    "# Fold 3 * Param 4 = 12\n",
    "cv = CrossValidator(estimator=pipeline,\n",
    "                    evaluator=evaluator,\n",
    "                    estimatorParamMaps=paramGrid,\n",
    "                    numFolds=fold)\n",
    "\n",
    "# Model training\n",
    "cvModel = cv.fit(train)\n",
    "bestModel = cvModel.bestModel\n",
    "\n",
    "print(\"Model training finished!\")\n",
    "print(\"Cross-validation average score : {}\".format(cvModel.avgMetrics[0]))\n",
    "print(\"Best maxDepth parameters : {}\".format(bestModel.stages[5]._java_obj.getMaxDepth()))\n",
    "print(\"Best maxIter parameters : {}\".format(bestModel.stages[5]._java_obj.getMaxIter()))\n",
    "print(\"Best maxBins parameters : {}\".format(bestModel.stages[5]._java_obj.getMaxBins()))\n"
   ]
  },
  {
   "cell_type": "code",
   "execution_count": 11,
   "metadata": {},
   "outputs": [
    {
     "name": "stdout",
     "output_type": "stream",
     "text": [
      "Feature importance:\n",
      "Pclass = 0.06481750810903839\n",
      "age_im = 0.22578400566966259\n",
      "SibSp = 0.06989017675012926\n",
      "Parch = 0.020850627057654187\n",
      "Fare = 0.241193953571112\n",
      "embarked_ix = 0.03151775101589472\n",
      "sex_ix = 0.08440115732327731\n",
      "len_name = 0.26154482050323163\n",
      "\n"
     ]
    }
   ],
   "source": [
    "# Feature Importance\n",
    "featureImportance = bestModel.stages[-1].featureImportances.toArray()\n",
    "print(\"Feature importance:\\n{}\\n\".format(\n",
    "    \"\\n\".join(map(lambda x: \"{} = {}\".format(str(x[0]), str(x[1])), zip(inputCols, featureImportance)))))"
   ]
  },
  {
   "cell_type": "code",
   "execution_count": 12,
   "metadata": {},
   "outputs": [
    {
     "data": {
      "text/plain": [
       "array([0.06481751, 0.22578401, 0.06989018, 0.02085063, 0.24119395,\n",
       "       0.03151775, 0.08440116, 0.26154482])"
      ]
     },
     "execution_count": 12,
     "metadata": {},
     "output_type": "execute_result"
    }
   ],
   "source": [
    "featureImportance"
   ]
  },
  {
   "cell_type": "code",
   "execution_count": 14,
   "metadata": {},
   "outputs": [
    {
     "data": {
      "text/plain": [
       "[Imputer_4481be44d6859df511fe,\n",
       " StringIndexer_4e37807cfaf4b47bb193,\n",
       " StringIndexer_4e4b915017eac3a1d0b2,\n",
       " VectorAssembler_4ed1b95cfac1b391229e,\n",
       " StandardScaler_4122b6493df4c553dfc3,\n",
       " GBTClassificationModel (uid=GBTClassifier_41a6967c367035fd406e) with 40 trees]"
      ]
     },
     "execution_count": 14,
     "metadata": {},
     "output_type": "execute_result"
    }
   ],
   "source": [
    "bestModel.stages"
   ]
  },
  {
   "cell_type": "code",
   "execution_count": 15,
   "metadata": {},
   "outputs": [
    {
     "data": {
      "text/plain": [
       "GBTClassificationModel (uid=GBTClassifier_41a6967c367035fd406e) with 40 trees"
      ]
     },
     "execution_count": 15,
     "metadata": {},
     "output_type": "execute_result"
    }
   ],
   "source": [
    "bestModel.stages[-1]"
   ]
  },
  {
   "cell_type": "code",
   "execution_count": 18,
   "metadata": {},
   "outputs": [
    {
     "data": {
      "text/plain": [
       "['Pclass',\n",
       " 'age_im',\n",
       " 'SibSp',\n",
       " 'Parch',\n",
       " 'Fare',\n",
       " 'embarked_ix',\n",
       " 'sex_ix',\n",
       " 'len_name']"
      ]
     },
     "execution_count": 18,
     "metadata": {},
     "output_type": "execute_result"
    }
   ],
   "source": [
    "inputCols"
   ]
  },
  {
   "cell_type": "code",
   "execution_count": 30,
   "metadata": {
    "scrolled": true
   },
   "outputs": [
    {
     "data": {
      "text/plain": [
       "<matplotlib.axes._subplots.AxesSubplot at 0x116f275f8>"
      ]
     },
     "execution_count": 30,
     "metadata": {},
     "output_type": "execute_result"
    },
    {
     "data": {
      "image/png": "[encoded data removed]",
      "text/plain": [
       "<Figure size 432x288 with 1 Axes>"
      ]
     },
     "metadata": {
      "image/png": {
       "height": 250,
       "width": 422
      }
     },
     "output_type": "display_data"
    }
   ],
   "source": [
    "feat_importances = pd.Series(featureImportance, index=inputCols)\n",
    "feat_importances = feat_importances.nlargest(20)\n",
    "feat_importances.plot(kind='barh')"
   ]
  },
  {
   "cell_type": "code",
   "execution_count": 27,
   "metadata": {},
   "outputs": [
    {
     "data": {
      "image/png": "[encoded data removed]",
      "text/plain": [
       "<Figure size 432x288 with 1 Axes>"
      ]
     },
     "metadata": {
      "image/png": {
       "height": 263,
       "width": 422
      }
     },
     "output_type": "display_data"
    }
   ],
   "source": [
    "plt.figure()\n",
    "plt.title(\"Feature Importances\")\n",
    "plt.barh(inputCols, featureImportance)\n",
    "plt.show()"
   ]
  },
  {
   "cell_type": "code",
   "execution_count": 31,
   "metadata": {},
   "outputs": [
    {
     "name": "stdout",
     "output_type": "stream",
     "text": [
      "Save to csv finished!\n"
     ]
    }
   ],
   "source": [
    "### Save Result\n",
    "predict = bestModel.transform(test)\n",
    "predict.select(\"PassengerId\", \"prediction\") \\\n",
    "    .coalesce(1).write.mode(\"overwrite\") \\\n",
    "    .option(\"compression\", \"gzip\") \\\n",
    "    .csv(\"./pred_titanic.csv.gzip\", sep=\",\", header=True)\n",
    "\n",
    "print(\"Save to csv finished!\")"
   ]
  },
  {
   "cell_type": "code",
   "execution_count": 32,
   "metadata": {},
   "outputs": [],
   "source": [
    "spark.stop()"
   ]
  },
  {
   "cell_type": "markdown",
   "metadata": {},
   "source": [
    "## Reference\n",
    "- 박준영님 [Repo](https://github.com/Swalloow/pyspark-ml-examples/blob/master/notebooks/spark-ml-gbt-pipeline.ipynb)"
   ]
  },
  {
   "cell_type": "code",
   "execution_count": null,
   "metadata": {},
   "outputs": [],
   "source": []
  }
 ],
 "metadata": {
  "kernelspec": {
   "display_name": "Python 3",
   "language": "python",
   "name": "python3"
  },
  "language_info": {
   "codemirror_mode": {
    "name": "ipython",
    "version": 3
   },
   "file_extension": ".py",
   "mimetype": "text/x-python",
   "name": "python",
   "nbconvert_exporter": "python",
   "pygments_lexer": "ipython3",
   "version": "3.6.5"
  },
  "varInspector": {
   "cols": {
    "lenName": 16,
    "lenType": 16,
    "lenVar": 40
   },
   "kernels_config": {
    "python": {
     "delete_cmd_postfix": "",
     "delete_cmd_prefix": "del ",
     "library": "var_list.py",
     "varRefreshCmd": "print(var_dic_list())"
    },
    "r": {
     "delete_cmd_postfix": ") ",
     "delete_cmd_prefix": "rm(",
     "library": "var_list.r",
     "varRefreshCmd": "cat(var_dic_list()) "
    }
   },
   "types_to_exclude": [
    "module",
    "function",
    "builtin_function_or_method",
    "instance",
    "_Feature"
   ],
   "window_display": false
  }
 },
 "nbformat": 4,
 "nbformat_minor": 2
}
