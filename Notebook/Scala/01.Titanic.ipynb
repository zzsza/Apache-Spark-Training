{
 "cells": [
  {
   "cell_type": "markdown",
   "metadata": {},
   "source": [
    "# Titanic \n",
    "- Kaggle Competition\n",
    "- 목적 \n",
    "    - Titanic을 푸는 것보단, Apache Spark에 적응하기\n",
    "    - RDD보다 Dataframe API를 사용하기\n",
    "- 실제론 Zeppelin을 사용하겠지만, Github에 올릴 때는 변환을 거쳐야 하므로(Zeppelin Notebook은 json으로 저장) jupyter notebook 사용 (커널 : toree)\n",
    "    - 따라서 이 노트북에선 EDA를 시각적으로 표현하지 못했음"
   ]
  },
  {
   "cell_type": "code",
   "execution_count": 130,
   "metadata": {},
   "outputs": [],
   "source": [
    "import org.apache.spark.sql.SparkSession\n",
    "import org.apache.spark.sql.functions.{col, udf, asc, sum, count, mean}"
   ]
  },
  {
   "cell_type": "code",
   "execution_count": 10,
   "metadata": {},
   "outputs": [
    {
     "data": {
      "text/plain": [
       "spark = org.apache.spark.sql.SparkSession@442526a0\n"
      ]
     },
     "metadata": {},
     "output_type": "display_data"
    },
    {
     "data": {
      "text/html": [
       "<ul>\n",
       "<li><a href=\"Some(http://192.168.219.102:4040)\" target=\"new_tab\">Spark UI: local-1530447718546</a></li>\n",
       "</ul>"
      ],
      "text/plain": [
       "Spark local-1530447718546: Some(http://192.168.219.102:4040)"
      ]
     },
     "execution_count": 10,
     "metadata": {},
     "output_type": "execute_result"
    }
   ],
   "source": [
    "val spark = SparkSession\n",
    "  .builder()\n",
    "  .appName(\"Spark SQL basic example\")\n",
    "  .config(\"spark.some.config.option\", \"some-value\")\n",
    "  .getOrCreate()\n",
    "\n",
    "import spark.implicits._"
   ]
  },
  {
   "cell_type": "code",
   "execution_count": 253,
   "metadata": {
    "scrolled": true
   },
   "outputs": [
    {
     "data": {
      "text/plain": [
       "trainData = /Users/byeon/Dropbox/workspace/til/data/titanic-train.csv\n",
       "testData = /Users/byeon/Dropbox/workspace/til/data/titanic-test.csv\n"
      ]
     },
     "metadata": {},
     "output_type": "display_data"
    },
    {
     "data": {
      "text/plain": [
       "/Users/byeon/Dropbox/workspace/til/data/titanic-test.csv"
      ]
     },
     "execution_count": 253,
     "metadata": {},
     "output_type": "execute_result"
    }
   ],
   "source": [
    "val trainData = \"/Users/byeon/Dropbox/workspace/til/data/titanic-train.csv\"\n",
    "val testData = \"/Users/byeon/Dropbox/workspace/til/data/titanic-test.csv\""
   ]
  },
  {
   "cell_type": "code",
   "execution_count": 52,
   "metadata": {},
   "outputs": [
    {
     "data": {
      "text/plain": [
       "titanic = [PassengerId: string, Survived: double ... 11 more fields]\n"
      ]
     },
     "metadata": {},
     "output_type": "display_data"
    },
    {
     "data": {
      "text/plain": [
       "[PassengerId: string, Survived: double ... 11 more fields]"
      ]
     },
     "execution_count": 52,
     "metadata": {},
     "output_type": "execute_result"
    }
   ],
   "source": [
    "val titanic = spark.read.option(\"header\", \"true\").\n",
    "    csv(trainData).\n",
    "    withColumn(\"Survived\", col(\"Survived\").cast(\"Double\")).\n",
    "    withColumn(\"label\", col(\"survived\")).\n",
    "    withColumn(\"Pclass\", col(\"Pclass\").cast(\"Double\")).\n",
    "    withColumn(\"SibSp\", col(\"SibSp\").cast(\"Double\")).\n",
    "    withColumn(\"Parch\", col(\"Parch\").cast(\"Double\")).\n",
    "    withColumn(\"Fare\", col(\"Fare\").cast(\"Double\")).\n",
    "    withColumn(\"Age\", col(\"Age\").cast(\"Int\"))"
   ]
  },
  {
   "cell_type": "code",
   "execution_count": 103,
   "metadata": {},
   "outputs": [
    {
     "name": "stdout",
     "output_type": "stream",
     "text": [
      "+-----------+--------+------+--------------------+------+---+-----+-----+----------------+-------+-----+--------+-----+\n",
      "|PassengerId|Survived|Pclass|                Name|   Sex|Age|SibSp|Parch|          Ticket|   Fare|Cabin|Embarked|label|\n",
      "+-----------+--------+------+--------------------+------+---+-----+-----+----------------+-------+-----+--------+-----+\n",
      "|          1|     0.0|   3.0|Braund, Mr. Owen ...|  male| 22|  1.0|  0.0|       A/5 21171|   7.25| null|       S|  0.0|\n",
      "|          2|     1.0|   1.0|Cumings, Mrs. Joh...|female| 38|  1.0|  0.0|        PC 17599|71.2833|  C85|       C|  1.0|\n",
      "|          3|     1.0|   3.0|Heikkinen, Miss. ...|female| 26|  0.0|  0.0|STON/O2. 3101282|  7.925| null|       S|  1.0|\n",
      "|          4|     1.0|   1.0|Futrelle, Mrs. Ja...|female| 35|  1.0|  0.0|          113803|   53.1| C123|       S|  1.0|\n",
      "|          5|     0.0|   3.0|Allen, Mr. Willia...|  male| 35|  0.0|  0.0|          373450|   8.05| null|       S|  0.0|\n",
      "+-----------+--------+------+--------------------+------+---+-----+-----+----------------+-------+-----+--------+-----+\n",
      "only showing top 5 rows\n",
      "\n"
     ]
    }
   ],
   "source": [
    "titanic.show(5)"
   ]
  },
  {
   "cell_type": "code",
   "execution_count": 104,
   "metadata": {},
   "outputs": [
    {
     "name": "stdout",
     "output_type": "stream",
     "text": [
      "root\n",
      " |-- PassengerId: string (nullable = true)\n",
      " |-- Survived: double (nullable = true)\n",
      " |-- Pclass: double (nullable = true)\n",
      " |-- Name: string (nullable = true)\n",
      " |-- Sex: string (nullable = true)\n",
      " |-- Age: integer (nullable = true)\n",
      " |-- SibSp: double (nullable = true)\n",
      " |-- Parch: double (nullable = true)\n",
      " |-- Ticket: string (nullable = true)\n",
      " |-- Fare: double (nullable = true)\n",
      " |-- Cabin: string (nullable = true)\n",
      " |-- Embarked: string (nullable = true)\n",
      " |-- label: double (nullable = true)\n",
      "\n"
     ]
    }
   ],
   "source": [
    "titanic.printSchema()"
   ]
  },
  {
   "cell_type": "code",
   "execution_count": 144,
   "metadata": {},
   "outputs": [
    {
     "name": "stdout",
     "output_type": "stream",
     "text": [
      "+-------+-------------------+------------------+\n",
      "|summary|           Survived|               Age|\n",
      "+-------+-------------------+------------------+\n",
      "|  count|                891|               714|\n",
      "|   mean| 0.3838383838383838|29.679271708683473|\n",
      "| stddev|0.48659245426485753|14.536482769437564|\n",
      "|    min|                0.0|                 0|\n",
      "|    max|                1.0|                80|\n",
      "+-------+-------------------+------------------+\n",
      "\n"
     ]
    }
   ],
   "source": [
    "titanic.describe(\"Survived\", \"Age\").show()"
   ]
  },
  {
   "cell_type": "code",
   "execution_count": 109,
   "metadata": {},
   "outputs": [
    {
     "name": "stdout",
     "output_type": "stream",
     "text": [
      "+-------+------------------+------------------+------------------+\n",
      "|summary|            PClass|               Age|             SibSp|\n",
      "+-------+------------------+------------------+------------------+\n",
      "|  count|               891|               714|               891|\n",
      "|   mean| 2.308641975308642|29.679271708683473|0.5230078563411896|\n",
      "| stddev|0.8360712409770491|14.536482769437564|1.1027434322934315|\n",
      "|    min|               1.0|                 0|               0.0|\n",
      "|    max|               3.0|                80|               8.0|\n",
      "+-------+------------------+------------------+------------------+\n",
      "\n"
     ]
    }
   ],
   "source": [
    "titanic.describe(\"PClass\", \"Age\", \"SibSp\").show()"
   ]
  },
  {
   "cell_type": "code",
   "execution_count": 55,
   "metadata": {},
   "outputs": [
    {
     "name": "stdout",
     "output_type": "stream",
     "text": [
      "+--------+-----+\n",
      "|Survived|count|\n",
      "+--------+-----+\n",
      "|     0.0|  549|\n",
      "|     1.0|  342|\n",
      "+--------+-----+\n",
      "\n"
     ]
    }
   ],
   "source": [
    "titanic.groupBy(\"Survived\").count().show()"
   ]
  },
  {
   "cell_type": "code",
   "execution_count": 94,
   "metadata": {},
   "outputs": [
    {
     "data": {
      "text/plain": [
       "0.61616164"
      ]
     },
     "execution_count": 94,
     "metadata": {},
     "output_type": "execute_result"
    }
   ],
   "source": [
    "// 사망률\n",
    "549.toFloat/891.toFloat"
   ]
  },
  {
   "cell_type": "code",
   "execution_count": 93,
   "metadata": {},
   "outputs": [
    {
     "data": {
      "text/plain": [
       "0.0"
      ]
     },
     "execution_count": 93,
     "metadata": {},
     "output_type": "execute_result"
    }
   ],
   "source": [
    "(549/891).toDouble"
   ]
  },
  {
   "cell_type": "code",
   "execution_count": 97,
   "metadata": {},
   "outputs": [
    {
     "name": "stdout",
     "output_type": "stream",
     "text": [
      "+------+--------+-----+\n",
      "|Pclass|Survived|count|\n",
      "+------+--------+-----+\n",
      "|   1.0|     0.0|   80|\n",
      "|   1.0|     1.0|  136|\n",
      "|   2.0|     0.0|   97|\n",
      "|   2.0|     1.0|   87|\n",
      "|   3.0|     0.0|  372|\n",
      "|   3.0|     1.0|  119|\n",
      "+------+--------+-----+\n",
      "\n"
     ]
    }
   ],
   "source": [
    "titanic.groupBy(\"Pclass\", \"Survived\").count().orderBy(\"Pclass\", \"Survived\").show()"
   ]
  },
  {
   "cell_type": "code",
   "execution_count": 143,
   "metadata": {},
   "outputs": [
    {
     "name": "stdout",
     "output_type": "stream",
     "text": [
      "+------+--------+-----+\n",
      "|   Sex|Survived|count|\n",
      "+------+--------+-----+\n",
      "|female|     0.0|   81|\n",
      "|female|     1.0|  233|\n",
      "|  male|     0.0|  468|\n",
      "|  male|     1.0|  109|\n",
      "+------+--------+-----+\n",
      "\n"
     ]
    }
   ],
   "source": [
    "titanic.groupBy(\"Sex\", \"Survived\").count().orderBy(\"Sex\", \"Survived\").show()"
   ]
  },
  {
   "cell_type": "code",
   "execution_count": 102,
   "metadata": {},
   "outputs": [
    {
     "name": "stdout",
     "output_type": "stream",
     "text": [
      "+-----+--------+-----+\n",
      "|Parch|Survived|count|\n",
      "+-----+--------+-----+\n",
      "|  0.0|     0.0|  445|\n",
      "|  0.0|     1.0|  233|\n",
      "|  1.0|     0.0|   53|\n",
      "|  1.0|     1.0|   65|\n",
      "|  2.0|     0.0|   40|\n",
      "|  2.0|     1.0|   40|\n",
      "|  3.0|     0.0|    2|\n",
      "|  3.0|     1.0|    3|\n",
      "|  4.0|     0.0|    4|\n",
      "|  5.0|     0.0|    4|\n",
      "|  5.0|     1.0|    1|\n",
      "|  6.0|     0.0|    1|\n",
      "+-----+--------+-----+\n",
      "\n"
     ]
    }
   ],
   "source": [
    "titanic.groupBy(\"Parch\", \"Survived\").count().orderBy(\"Parch\", \"Survived\").show()"
   ]
  },
  {
   "cell_type": "code",
   "execution_count": 112,
   "metadata": {},
   "outputs": [
    {
     "data": {
      "text/plain": [
       "[0.0, 0.0, 0.0, 0.0, 0.0, 0.0, 0.0, 0.0, 0.0, 0.0, 0.0, 0.0, 0.0, 0.0, 0.0, 4.0125, 5.0, 6.2375, 6.4375, 6.45, 6.4958, 6.4958, 6.75, 6.75, 6.8583, 6.95, 6.975, 6.975, 7.0458, 7.05, 7.05, 7.05, 7.05, 7.05, 7.05, 7.05, 7.0542, 7.0542, 7.125, 7.125, 7.125, 7.125, 7.1417, 7.225, 7.225, 7.225, 7.225, 7.225, 7.225, 7.225, 7.225, 7.225, 7.225, 7.225, 7.225, 7.2292, 7.2292, 7.2292, 7.2292, 7.2292, 7.2292, 7.2292, 7.2292, 7.2292, 7.2292, 7.2292, 7.2292, 7.2292, 7.2292, 7.2292, 7.25, 7.25, 7.25, 7.25, 7.25, 7.25, 7.25, 7.25, 7.25, 7.25, 7.25, 7.25, 7.25, 7.3125, 7.4958, 7.4958, 7.4958, 7.5208, 7.55, 7.55, 7.55, 7.55, 7.6292, 7.65, 7.65, 7.65, 7.65, 7.725, 7.7292, 7.7333, 7.7333, 7.7333, 7.7333, 7.7375, 7.7375, 7.7417, 7.75, 7.75, 7.75, 7.75, 7.75, 7.75, 7.75, 7.75, 7.75, 7.75, 7.75, 7.75, 7.75, 7.75, 7.75, 7.75, 7.75, 7.75, 7.75, 7.75, 7.75, 7.75, 7.75, 7.75, 7.75, 7.75, 7.75, 7.75, 7.75, 7.75, 7.75, 7.75, 7.75, 7.75, 7.775, 7.775, 7.775, 7.775, 7.775, 7.775, 7.775, 7.775, 7.775, 7.775, 7.775, 7.775, 7.775, 7.775, 7.775, 7.775, 7.7875, 7.7958, 7.7958, 7.7958, 7.7958, 7.7958, 7.7958, 7.8, 7.8292, 7.8292, 7.8542, 7.8542, 7.8542, 7.8542, 7.8542, 7.8542, 7.8542, 7.8542, 7.8542, 7.8542, 7.8542, 7.8542, 7.8542, 7.875, 7.8792, 7.8792, 7.8792, 7.8792, 7.8875, 7.8958, 7.8958, 7.8958, 7.8958, 7.8958, 7.8958, 7.8958, 7.8958, 7.8958, 7.8958, 7.8958, 7.8958, 7.8958, 7.8958, 7.8958, 7.8958, 7.8958, 7.8958, 7.8958, 7.8958, 7.8958, 7.8958, 7.8958, 7.8958, 7.8958, 7.8958, 7.8958, 7.8958, 7.8958, 7.8958, 7.8958, 7.8958, 7.8958, 7.8958, 7.8958, 7.8958, 7.8958, 7.8958, 7.925, 7.925, 7.925, 7.925, 7.925, 7.925, 7.925, 7.925, 7.925, 7.925, 7.925, 7.925, 7.925, 7.925, 7.925, 7.925, 7.925, 7.925, 8.0292, 8.05, 8.05, 8.05, 8.05, 8.05, 8.05, 8.05, 8.05, 8.05, 8.05, 8.05, 8.05, 8.05, 8.05, 8.05, 8.05, 8.05, 8.05, 8.05, 8.05, 8.05, 8.05, 8.05, 8.05, 8.05, 8.05, 8.05, 8.05, 8.05, 8.05, 8.05, 8.05, 8.05, 8.05, 8.05, 8.05, 8.05, 8.05, 8.05, 8.05, 8.05, 8.05, 8.05, 8.1125, 8.1375, 8.1583, 8.3, 8.3625, 8.4042, 8.4333, 8.4583, 8.5167, 8.6542, 8.6625, 8.6625, 8.6625, 8.6625, 8.6625, 8.6625, 8.6625, 8.6625, 8.6625, 8.6625, 8.6625, 8.6625, 8.6625, 8.6833, 8.7125, 8.85, 9.0, 9.0, 9.2167, 9.225, 9.225, 9.35, 9.35, 9.475, 9.4833, 9.5, 9.5, 9.5, 9.5, 9.5, 9.5, 9.5, 9.5, 9.5, 9.5875, 9.5875, 9.825, 9.825, 9.8375, 9.8417, 9.8458, 10.1708, 10.4625, 10.4625, 10.5, 10.5, 10.5, 10.5, 10.5, 10.5, 10.5, 10.5, 10.5, 10.5, 10.5, 10.5, 10.5, 10.5, 10.5, 10.5, 10.5, 10.5, 10.5, 10.5, 10.5, 10.5, 10.5, 10.5, 10.5167, 11.1333, 11.1333, 11.1333, 11.2417, 11.2417, 11.5, 11.5, 11.5, 11.5, 12.0, 12.275, 12.2875, 12.35, 12.35, 12.35, 12.475, 12.475, 12.475, 12.475, 12.525, 12.65, 12.875, 13.0, 13.0, 13.0, 13.0, 13.0, 13.0, 13.0, 13.0, 13.0, 13.0, 13.0, 13.0, 13.0, 13.0, 13.0, 13.0, 13.0, 13.0, 13.0, 13.0, 13.0, 13.0, 13.0, 13.0, 13.0, 13.0, 13.0, 13.0, 13.0, 13.0, 13.0, 13.0, 13.0, 13.0, 13.0, 13.0, 13.0, 13.0, 13.0, 13.0, 13.0, 13.0, 13.4167, 13.5, 13.5, 13.5, 13.5, 13.7917, 13.8583, 13.8625, 14.0, 14.1083, 14.4, 14.4, 14.4542, 14.4542, 14.4542, 14.4542, 14.4542, 14.4542, 14.4542, 14.4583, 14.4583, 14.4583, 14.5, 14.5, 14.5, 14.5, 14.5, 14.5, 14.5, 15.0, 15.0458, 15.05, 15.1, 15.2458, 15.2458, 15.2458, 15.2458, 15.2458, 15.5, 15.5, 15.5, 15.5, 15.5, 15.5, 15.5, 15.5, 15.55, 15.7417, 15.7417, 15.75, 15.85, 15.85, 15.85, 15.85, 15.9, 15.9, 16.0, 16.1, 16.1, 16.1, 16.1, 16.1, 16.1, 16.1, 16.1, 16.1, 16.7, 16.7, 17.4, 17.8, 17.8, 18.0, 18.0, 18.0, 18.75, 18.75, 18.75, 18.7875, 18.7875, 19.2583, 19.2583, 19.2583, 19.2583, 19.5, 19.5, 19.9667, 19.9667, 20.2125, 20.2125, 20.25, 20.25, 20.525, 20.525, 20.525, 20.575, 20.575, 21.0, 21.0, 21.0, 21.0, 21.0, 21.0, 21.075, 21.075, 21.075, 21.075, 21.6792, 22.025, 22.3583, 22.3583, 22.525, 23.0, 23.0, 23.0, 23.0, 23.25, 23.25, 23.45, 23.45, 24.0, 24.0, 24.15, 24.15, 24.15, 24.15, 24.15, 24.15, 24.15, 24.15, 25.4667, 25.4667, 25.4667, 25.4667, 25.5875, 25.925, 25.9292, 25.9292, 26.0, 26.0, 26.0, 26.0, 26.0, 26.0, 26.0, 26.0, 26.0, 26.0, 26.0, 26.0, 26.0, 26.0, 26.0, 26.0, 26.0, 26.0, 26.0, 26.0, 26.0, 26.0, 26.0, 26.0, 26.0, 26.0, 26.0, 26.0, 26.0, 26.0, 26.0, 26.25, 26.25, 26.25, 26.25, 26.25, 26.25, 26.2833, 26.2875, 26.2875, 26.2875, 26.3875, 26.55, 26.55, 26.55, 26.55, 26.55, 26.55, 26.55, 26.55, 26.55, 26.55, 26.55, 26.55, 26.55, 26.55, 26.55, 27.0, 27.0, 27.7208, 27.7208, 27.7208, 27.7208, 27.7208, 27.75, 27.75, 27.75, 27.75, 27.9, 27.9, 27.9, 27.9, 27.9, 27.9, 28.5, 28.7125, 29.0, 29.0, 29.125, 29.125, 29.125, 29.125, 29.125, 29.7, 29.7, 29.7, 30.0, 30.0, 30.0, 30.0, 30.0, 30.0, 30.0708, 30.0708, 30.5, 30.5, 30.5, 30.5, 30.5, 30.6958, 30.6958, 31.0, 31.0, 31.0, 31.275, 31.275, 31.275, 31.275, 31.275, 31.275, 31.275, 31.3875, 31.3875, 31.3875, 31.3875, 32.3208, 32.5, 33.0, 33.0, 33.0, 33.5, 34.0208, 34.375, 34.375, 34.375, 34.375, 34.6542, 35.0, 35.5, 35.5, 35.5, 35.5, 36.75, 36.75, 37.0042, 37.0042, 38.5, 39.0, 39.0, 39.0, 39.0, 39.4, 39.6, 39.6, 39.6875, 39.6875, 39.6875, 39.6875, 39.6875, 39.6875, 40.125, 41.5792, 41.5792, 41.5792, 42.4, 46.9, 46.9, 46.9, 46.9, 46.9, 46.9, 47.1, 49.5, 49.5042, 49.5042, 50.0, 50.4958, 51.4792, 51.8625, 51.8625, 52.0, 52.0, 52.0, 52.0, 52.0, 52.0, 52.0, 52.5542, 52.5542, 52.5542, 53.1, 53.1, 53.1, 53.1, 53.1, 55.0, 55.0, 55.4417, 55.9, 55.9, 56.4958, 56.4958, 56.4958, 56.4958, 56.4958, 56.4958, 56.4958, 56.9292, 56.9292, 57.0, 57.0, 57.9792, 57.9792, 59.4, 61.175, 61.3792, 61.9792, 63.3583, 65.0, 65.0, 66.6, 66.6, 69.3, 69.3, 69.55, 69.55, 69.55, 69.55, 69.55, 69.55, 69.55, 71.0, 71.0, 71.2833, 73.5, 73.5, 73.5, 73.5, 73.5, 75.25, 76.2917, 76.7292, 76.7292, 76.7292, 77.2875, 77.2875, 77.9583, 77.9583, 77.9583, 78.2667, 78.2667, 78.85, 78.85, 79.2, 79.2, 79.2, 79.2, 79.65, 79.65, 79.65, 80.0, 80.0, 81.8583, 82.1708, 82.1708, 83.1583, 83.1583, 83.1583, 83.475, 83.475, 86.5, 86.5, 86.5, 89.1042, 89.1042, 90.0, 90.0, 90.0, 90.0, 91.0792, 91.0792, 93.5, 93.5, 106.425, 106.425, 108.9, 108.9, 110.8833, 110.8833, 110.8833, 110.8833, 113.275, 113.275, 113.275, 120.0, 120.0, 120.0, 120.0, 133.65, 133.65, 134.5, 134.5, 135.6333, 135.6333, 135.6333, 146.5208, 146.5208, 151.55, 151.55, 151.55, 151.55, 153.4625, 153.4625, 153.4625, 164.8667, 164.8667, 211.3375, 211.3375, 211.3375, 211.5, 221.7792, 227.525, 227.525, 227.525, 227.525, 247.5208, 247.5208, 262.375, 262.375, 263.0, 263.0, 263.0, 263.0, 512.3292, 512.3292, 512.3292]"
      ]
     },
     "execution_count": 112,
     "metadata": {},
     "output_type": "execute_result"
    }
   ],
   "source": [
    "// zeppelin이나 spark notebook이면 시각화가 됨. jupyter notebook이라 안됨..\n",
    "titanic.select(\"Fare\").orderBy(asc(\"Fare\")).map(row => row(0).asInstanceOf[Double]).collect()"
   ]
  },
  {
   "cell_type": "code",
   "execution_count": 123,
   "metadata": {},
   "outputs": [
    {
     "name": "stdout",
     "output_type": "stream",
     "text": [
      "+-----+-------------+---------------+---------------------------------+\n",
      "|Sibsp|sum(Survived)|count(Survived)|(sum(Survived) / count(Survived))|\n",
      "+-----+-------------+---------------+---------------------------------+\n",
      "|  0.0|        210.0|            608|              0.34539473684210525|\n",
      "|  1.0|        112.0|            209|               0.5358851674641149|\n",
      "|  2.0|         13.0|             28|               0.4642857142857143|\n",
      "|  3.0|          4.0|             16|                             0.25|\n",
      "|  4.0|          3.0|             18|              0.16666666666666666|\n",
      "|  5.0|          0.0|              5|                              0.0|\n",
      "|  8.0|          0.0|              7|                              0.0|\n",
      "+-----+-------------+---------------+---------------------------------+\n",
      "\n"
     ]
    }
   ],
   "source": [
    "titanic.groupBy(\"Sibsp\").agg(sum(\"Survived\"), count(\"Survived\"), sum(\"Survived\")/count(\"Survived\")).orderBy(\"Sibsp\").show()"
   ]
  },
  {
   "cell_type": "code",
   "execution_count": 127,
   "metadata": {},
   "outputs": [
    {
     "data": {
      "text/plain": [
       "avgAge = 29.679271708683473\n"
      ]
     },
     "metadata": {},
     "output_type": "display_data"
    },
    {
     "data": {
      "text/plain": [
       "29.679271708683473"
      ]
     },
     "execution_count": 127,
     "metadata": {},
     "output_type": "execute_result"
    }
   ],
   "source": [
    "val avgAge = titanic.select(mean(\"Age\")).first()(0).asInstanceOf[Double]"
   ]
  },
  {
   "cell_type": "code",
   "execution_count": 140,
   "metadata": {},
   "outputs": [
    {
     "data": {
      "text/plain": [
       "titanic2 = [PassengerId: string, Survived: double ... 11 more fields]\n"
      ]
     },
     "metadata": {},
     "output_type": "display_data"
    },
    {
     "data": {
      "text/plain": [
       "[PassengerId: string, Survived: double ... 11 more fields]"
      ]
     },
     "execution_count": 140,
     "metadata": {},
     "output_type": "execute_result"
    }
   ],
   "source": [
    "val titanic2 = titanic.na.fill(avgAge, Seq(\"Age\"))"
   ]
  },
  {
   "cell_type": "code",
   "execution_count": 141,
   "metadata": {},
   "outputs": [
    {
     "name": "stdout",
     "output_type": "stream",
     "text": [
      "+-------+------------------+\n",
      "|summary|               Age|\n",
      "+-------+------------------+\n",
      "|  count|               891|\n",
      "|   mean|29.544332210998878|\n",
      "| stddev|13.013778302447072|\n",
      "|    min|                 0|\n",
      "|    max|                80|\n",
      "+-------+------------------+\n",
      "\n"
     ]
    }
   ],
   "source": [
    "titanic2.describe(\"Age\").show()"
   ]
  },
  {
   "cell_type": "markdown",
   "metadata": {},
   "source": [
    "- spark feature는 반드시 DOUBLE 타입"
   ]
  },
  {
   "cell_type": "code",
   "execution_count": 148,
   "metadata": {},
   "outputs": [
    {
     "data": {
      "text/plain": [
       "sqlContext = org.apache.spark.sql.SQLContext@213fe27e\n"
      ]
     },
     "metadata": {},
     "output_type": "display_data"
    },
    {
     "data": {
      "text/plain": [
       "warning: there was one deprecation warning; re-run with -deprecation for details\n"
      ]
     },
     "metadata": {},
     "output_type": "display_data"
    },
    {
     "data": {
      "text/plain": [
       "org.apache.spark.sql.SQLContext@213fe27e"
      ]
     },
     "execution_count": 148,
     "metadata": {},
     "output_type": "execute_result"
    }
   ],
   "source": [
    "val sqlContext = new org.apache.spark.sql.SQLContext(sc)"
   ]
  },
  {
   "cell_type": "code",
   "execution_count": 151,
   "metadata": {},
   "outputs": [
    {
     "data": {
      "text/plain": [
       "toDouble = UserDefinedFunction(<function1>,DoubleType,Some(List(IntegerType)))\n"
      ]
     },
     "metadata": {},
     "output_type": "display_data"
    },
    {
     "data": {
      "text/plain": [
       "UserDefinedFunction(<function1>,DoubleType,Some(List(IntegerType)))"
      ]
     },
     "execution_count": 151,
     "metadata": {},
     "output_type": "execute_result"
    }
   ],
   "source": [
    "val toDouble = sqlContext.udf.register(\"toDouble\", ((n: Int) => { n.toDouble }))"
   ]
  },
  {
   "cell_type": "code",
   "execution_count": 157,
   "metadata": {},
   "outputs": [
    {
     "data": {
      "text/plain": [
       "df = [PassengerId: string, Survived: double ... 7 more fields]\n"
      ]
     },
     "metadata": {},
     "output_type": "display_data"
    },
    {
     "data": {
      "text/plain": [
       "[PassengerId: string, Survived: double ... 7 more fields]"
      ]
     },
     "execution_count": 157,
     "metadata": {},
     "output_type": "execute_result"
    }
   ],
   "source": [
    "val df = titanic2.drop(\"Name\").drop(\"cabin\").drop(\"Ticket\").drop(\"Embarked\").\n",
    "                                   withColumn(\"Survived\", toDouble(titanic2(\"Survived\")))"
   ]
  },
  {
   "cell_type": "code",
   "execution_count": 158,
   "metadata": {},
   "outputs": [
    {
     "name": "stdout",
     "output_type": "stream",
     "text": [
      "root\n",
      " |-- PassengerId: string (nullable = true)\n",
      " |-- Survived: double (nullable = true)\n",
      " |-- Pclass: double (nullable = true)\n",
      " |-- Sex: string (nullable = true)\n",
      " |-- Age: integer (nullable = true)\n",
      " |-- SibSp: double (nullable = true)\n",
      " |-- Parch: double (nullable = true)\n",
      " |-- Fare: double (nullable = true)\n",
      " |-- label: double (nullable = true)\n",
      "\n"
     ]
    }
   ],
   "source": [
    "df.printSchema"
   ]
  },
  {
   "cell_type": "markdown",
   "metadata": {},
   "source": [
    "## 모델링"
   ]
  },
  {
   "cell_type": "code",
   "execution_count": 159,
   "metadata": {},
   "outputs": [],
   "source": [
    "import org.apache.spark.ml.feature.StringIndexer"
   ]
  },
  {
   "cell_type": "code",
   "execution_count": 161,
   "metadata": {},
   "outputs": [
    {
     "data": {
      "text/plain": [
       "sexIndexer = strIdx_36193a26a9e4\n"
      ]
     },
     "metadata": {},
     "output_type": "display_data"
    },
    {
     "data": {
      "text/plain": [
       "strIdx_36193a26a9e4"
      ]
     },
     "execution_count": 161,
     "metadata": {},
     "output_type": "execute_result"
    }
   ],
   "source": [
    "// StringIndexer를 활용해 String을 index로 바꿈\n",
    "val sexIndexer = new StringIndexer().setInputCol(\"Sex\").setOutputCol(\"SexIndex\")"
   ]
  },
  {
   "cell_type": "code",
   "execution_count": 162,
   "metadata": {},
   "outputs": [
    {
     "data": {
      "text/plain": [
       "tempModel = strIdx_36193a26a9e4\n"
      ]
     },
     "metadata": {},
     "output_type": "display_data"
    },
    {
     "data": {
      "text/plain": [
       "strIdx_36193a26a9e4"
      ]
     },
     "execution_count": 162,
     "metadata": {},
     "output_type": "execute_result"
    }
   ],
   "source": [
    "var tempModel = sexIndexer.fit(df)"
   ]
  },
  {
   "cell_type": "code",
   "execution_count": 163,
   "metadata": {},
   "outputs": [
    {
     "name": "stdout",
     "output_type": "stream",
     "text": [
      "+------+--------+\n",
      "|   Sex|SexIndex|\n",
      "+------+--------+\n",
      "|  male|     0.0|\n",
      "|female|     1.0|\n",
      "|female|     1.0|\n",
      "|female|     1.0|\n",
      "|  male|     0.0|\n",
      "+------+--------+\n",
      "only showing top 5 rows\n",
      "\n"
     ]
    }
   ],
   "source": [
    "tempModel.transform(df).select(\"Sex\", \"SexIndex\").show(5)"
   ]
  },
  {
   "cell_type": "code",
   "execution_count": 164,
   "metadata": {},
   "outputs": [],
   "source": [
    "import org.apache.spark.ml.feature.Bucketizer\n",
    "// Category화(Bucket화)"
   ]
  },
  {
   "cell_type": "code",
   "execution_count": 171,
   "metadata": {},
   "outputs": [
    {
     "data": {
      "text/plain": [
       "fareSplits = Array(0.0, 50.0, 100.0, 150.0, 200.0, Infinity)\n",
       "fareBucket = bucketizer_20b07578fd17\n"
      ]
     },
     "metadata": {},
     "output_type": "display_data"
    },
    {
     "data": {
      "text/plain": [
       "bucketizer_20b07578fd17"
      ]
     },
     "execution_count": 171,
     "metadata": {},
     "output_type": "execute_result"
    }
   ],
   "source": [
    "val fareSplits = Array(0.0, 50.0, 100.0, 150.0, 200.0, Double.PositiveInfinity)\n",
    "val fareBucket = new Bucketizer().setInputCol(\"Fare\").setOutputCol(\"FareBucket\").setSplits(fareSplits)"
   ]
  },
  {
   "cell_type": "code",
   "execution_count": 176,
   "metadata": {},
   "outputs": [
    {
     "name": "stdout",
     "output_type": "stream",
     "text": [
      "+-------+----------+\n",
      "|   Fare|FareBucket|\n",
      "+-------+----------+\n",
      "|   7.25|       0.0|\n",
      "|71.2833|       1.0|\n",
      "|  7.925|       0.0|\n",
      "|   53.1|       1.0|\n",
      "|   8.05|       0.0|\n",
      "| 8.4583|       0.0|\n",
      "|51.8625|       1.0|\n",
      "| 21.075|       0.0|\n",
      "|11.1333|       0.0|\n",
      "|30.0708|       0.0|\n",
      "|   16.7|       0.0|\n",
      "|  26.55|       0.0|\n",
      "|   8.05|       0.0|\n",
      "| 31.275|       0.0|\n",
      "| 7.8542|       0.0|\n",
      "|   16.0|       0.0|\n",
      "| 29.125|       0.0|\n",
      "|   13.0|       0.0|\n",
      "|   18.0|       0.0|\n",
      "|  7.225|       0.0|\n",
      "+-------+----------+\n",
      "only showing top 20 rows\n",
      "\n"
     ]
    }
   ],
   "source": [
    "fareBucket.transform(df).select(\"Fare\", \"FareBucket\").show(20)"
   ]
  },
  {
   "cell_type": "code",
   "execution_count": 189,
   "metadata": {},
   "outputs": [
    {
     "data": {
      "text/plain": [
       "assembler = vecAssembler_18ed537fd910\n"
      ]
     },
     "metadata": {},
     "output_type": "display_data"
    },
    {
     "data": {
      "text/plain": [
       "lastException: Throwable = null\n"
      ]
     },
     "metadata": {},
     "output_type": "display_data"
    },
    {
     "data": {
      "text/plain": [
       "vecAssembler_18ed537fd910"
      ]
     },
     "execution_count": 189,
     "metadata": {},
     "output_type": "execute_result"
    }
   ],
   "source": [
    "import org.apache.spark.ml.feature.VectorAssembler\n",
    "\n",
    "val assembler = new VectorAssembler().\n",
    "    setInputCols(Array(\"Pclass\", \"SexIndex\", \"Age\", \"SibSp\", \"Parch\", \"FareBucket\")).\n",
    "    setOutputCol(\"tempFeatures\")"
   ]
  },
  {
   "cell_type": "code",
   "execution_count": 178,
   "metadata": {},
   "outputs": [],
   "source": [
    "import org.apache.spark.ml.feature.Normalizer\n"
   ]
  },
  {
   "cell_type": "code",
   "execution_count": 190,
   "metadata": {},
   "outputs": [
    {
     "data": {
      "text/plain": [
       "normalizer = normalizer_fb823ceff85e\n"
      ]
     },
     "metadata": {},
     "output_type": "display_data"
    },
    {
     "data": {
      "text/plain": [
       "normalizer_fb823ceff85e"
      ]
     },
     "execution_count": 190,
     "metadata": {},
     "output_type": "execute_result"
    }
   ],
   "source": [
    "val normalizer = new Normalizer().setInputCol(\"tempFeatures\").setOutputCol(\"features\")"
   ]
  },
  {
   "cell_type": "code",
   "execution_count": 181,
   "metadata": {},
   "outputs": [],
   "source": [
    "import org.apache.spark.ml.classification.LogisticRegression"
   ]
  },
  {
   "cell_type": "code",
   "execution_count": 191,
   "metadata": {},
   "outputs": [
    {
     "data": {
      "text/plain": [
       "logreg = logreg_9380ab7308c9\n"
      ]
     },
     "metadata": {},
     "output_type": "display_data"
    },
    {
     "data": {
      "text/plain": [
       "logreg_9380ab7308c9"
      ]
     },
     "execution_count": 191,
     "metadata": {},
     "output_type": "execute_result"
    }
   ],
   "source": [
    "val logreg = new LogisticRegression().setMaxIter(10)\n",
    "logreg.setLabelCol(\"Survived\")"
   ]
  },
  {
   "cell_type": "code",
   "execution_count": 183,
   "metadata": {},
   "outputs": [],
   "source": [
    "import org.apache.spark.ml.Pipeline"
   ]
  },
  {
   "cell_type": "code",
   "execution_count": 192,
   "metadata": {},
   "outputs": [
    {
     "data": {
      "text/plain": [
       "pipeline = pipeline_a63f0926dd04\n"
      ]
     },
     "metadata": {},
     "output_type": "display_data"
    },
    {
     "data": {
      "text/plain": [
       "pipeline_a63f0926dd04"
      ]
     },
     "execution_count": 192,
     "metadata": {},
     "output_type": "execute_result"
    }
   ],
   "source": [
    "val pipeline = new Pipeline().setStages(Array(fareBucket, sexIndexer, assembler, normalizer, logreg))"
   ]
  },
  {
   "cell_type": "code",
   "execution_count": 193,
   "metadata": {},
   "outputs": [
    {
     "data": {
      "text/plain": [
       "splits = Array([PassengerId: string, Survived: double ... 7 more fields], [PassengerId: string, Survived: double ... 7 more fields])\n",
       "train = [PassengerId: string, Survived: double ... 7 more fields]\n",
       "test = [PassengerId: string, Survived: double ... 7 more fields]\n"
      ]
     },
     "metadata": {},
     "output_type": "display_data"
    },
    {
     "data": {
      "text/plain": [
       "[PassengerId: string, Survived: double ... 7 more fields]"
      ]
     },
     "execution_count": 193,
     "metadata": {},
     "output_type": "execute_result"
    }
   ],
   "source": [
    "val splits = df.randomSplit(Array(0.7, 0.3), seed=9L)\n",
    "val train = splits(0).cache()\n",
    "val test = splits(1).cache()"
   ]
  },
  {
   "cell_type": "code",
   "execution_count": 194,
   "metadata": {},
   "outputs": [
    {
     "data": {
      "text/plain": [
       "model = pipeline_a63f0926dd04\n",
       "result = [PassengerId: string, Survived: double ... 14 more fields]\n"
      ]
     },
     "metadata": {},
     "output_type": "display_data"
    },
    {
     "data": {
      "text/plain": [
       "[PassengerId: string, Survived: double ... 14 more fields]"
      ]
     },
     "execution_count": 194,
     "metadata": {},
     "output_type": "execute_result"
    }
   ],
   "source": [
    "val model = pipeline.fit(train)\n",
    "val result = model.transform(test)"
   ]
  },
  {
   "cell_type": "code",
   "execution_count": 197,
   "metadata": {},
   "outputs": [
    {
     "name": "stdout",
     "output_type": "stream",
     "text": [
      "+-----------+--------+\n",
      "|PassengerId|Survived|\n",
      "+-----------+--------+\n",
      "|          1|     0.0|\n",
      "|        104|     0.0|\n",
      "|        106|     0.0|\n",
      "|        107|     1.0|\n",
      "|        109|     0.0|\n",
      "+-----------+--------+\n",
      "only showing top 5 rows\n",
      "\n"
     ]
    }
   ],
   "source": [
    "result.select(\"PassengerId\", \"Survived\").show(5)"
   ]
  },
  {
   "cell_type": "code",
   "execution_count": 204,
   "metadata": {},
   "outputs": [
    {
     "name": "stdout",
     "output_type": "stream",
     "text": [
      "root\n",
      " |-- PassengerId: string (nullable = true)\n",
      " |-- Survived: double (nullable = true)\n",
      " |-- Pclass: double (nullable = true)\n",
      " |-- Sex: string (nullable = true)\n",
      " |-- Age: integer (nullable = true)\n",
      " |-- SibSp: double (nullable = true)\n",
      " |-- Parch: double (nullable = true)\n",
      " |-- Fare: double (nullable = true)\n",
      " |-- label: double (nullable = true)\n",
      " |-- FareBucket: double (nullable = true)\n",
      " |-- SexIndex: double (nullable = false)\n",
      " |-- tempFeatures: vector (nullable = true)\n",
      " |-- features: vector (nullable = true)\n",
      " |-- rawPrediction: vector (nullable = true)\n",
      " |-- probability: vector (nullable = true)\n",
      " |-- prediction: double (nullable = false)\n",
      "\n"
     ]
    }
   ],
   "source": [
    "result.printSchema"
   ]
  },
  {
   "cell_type": "code",
   "execution_count": 232,
   "metadata": {},
   "outputs": [],
   "source": [
    "import org.apache.spark.mllib.evaluation.BinaryClassificationMetrics\n"
   ]
  },
  {
   "cell_type": "code",
   "execution_count": 235,
   "metadata": {},
   "outputs": [],
   "source": [
    "import org.apache.spark.ml.evaluation.BinaryClassificationEvaluator"
   ]
  },
  {
   "cell_type": "code",
   "execution_count": 243,
   "metadata": {},
   "outputs": [
    {
     "data": {
      "text/plain": [
       "predictionAndLabel = [prediction: double, Survived: double]\n"
      ]
     },
     "metadata": {},
     "output_type": "display_data"
    },
    {
     "data": {
      "text/plain": [
       "[prediction: double, Survived: double]"
      ]
     },
     "execution_count": 243,
     "metadata": {},
     "output_type": "execute_result"
    }
   ],
   "source": [
    "val predictionAndLabel = result.select(\"prediction\", \"Survived\").\n",
    "    map(row => (row.get(0).asInstanceOf[Double]))"
   ]
  },
  {
   "cell_type": "code",
   "execution_count": 244,
   "metadata": {},
   "outputs": [
    {
     "name": "stdout",
     "output_type": "stream",
     "text": [
      "+----------+--------+\n",
      "|prediction|Survived|\n",
      "+----------+--------+\n",
      "|       0.0|     0.0|\n",
      "|       0.0|     0.0|\n",
      "|       0.0|     0.0|\n",
      "+----------+--------+\n",
      "only showing top 3 rows\n",
      "\n"
     ]
    }
   ],
   "source": [
    "predictionAndLabel.show(3)"
   ]
  },
  {
   "cell_type": "code",
   "execution_count": 236,
   "metadata": {},
   "outputs": [
    {
     "data": {
      "text/plain": [
       "metrics = binEval_d790703769c5\n"
      ]
     },
     "metadata": {},
     "output_type": "display_data"
    },
    {
     "data": {
      "text/plain": [
       "binEval_d790703769c5"
      ]
     },
     "execution_count": 236,
     "metadata": {},
     "output_type": "execute_result"
    }
   ],
   "source": [
    "val metrics = new BinaryClassificationEvaluator()"
   ]
  },
  {
   "cell_type": "code",
   "execution_count": 245,
   "metadata": {},
   "outputs": [
    {
     "data": {
      "text/plain": [
       "binEval_d790703769c5"
      ]
     },
     "execution_count": 245,
     "metadata": {},
     "output_type": "execute_result"
    }
   ],
   "source": [
    "metrics.setRawPredictionCol(\"prediction\").setLabelCol(\"Survived\")"
   ]
  },
  {
   "cell_type": "code",
   "execution_count": 249,
   "metadata": {},
   "outputs": [
    {
     "name": "stdout",
     "output_type": "stream",
     "text": [
      "0.7123397435897436\n"
     ]
    }
   ],
   "source": [
    "metrics.setMetricName(\"areaUnderROC\")\n",
    "println(metrics.evaluate(predictionAndLabel))"
   ]
  },
  {
   "cell_type": "code",
   "execution_count": 255,
   "metadata": {},
   "outputs": [
    {
     "data": {
      "text/plain": [
       "testDf = [PassengerId: string, Pclass: string ... 9 more fields]\n"
      ]
     },
     "metadata": {},
     "output_type": "display_data"
    },
    {
     "data": {
      "text/plain": [
       "[PassengerId: string, Pclass: string ... 9 more fields]"
      ]
     },
     "execution_count": 255,
     "metadata": {},
     "output_type": "execute_result"
    }
   ],
   "source": [
    "var testDf = spark.read.option(\"header\", \"true\").\n",
    "    csv(testData).\n",
    "    toDF().\n",
    "    cache()"
   ]
  },
  {
   "cell_type": "code",
   "execution_count": 258,
   "metadata": {},
   "outputs": [
    {
     "name": "stdout",
     "output_type": "stream",
     "text": [
      "+-------+------------------+\n",
      "|summary|              Fare|\n",
      "+-------+------------------+\n",
      "|  count|               417|\n",
      "|   mean|  35.6271884892086|\n",
      "| stddev|55.907576179973844|\n",
      "|    min|                 0|\n",
      "|    max|              93.5|\n",
      "+-------+------------------+\n",
      "\n"
     ]
    }
   ],
   "source": [
    "testDf.describe(\"Fare\").show()"
   ]
  },
  {
   "cell_type": "code",
   "execution_count": null,
   "metadata": {},
   "outputs": [],
   "source": [
    "// ToDo : testDf 제출 자료로 만들기"
   ]
  }
 ],
 "metadata": {
  "kernelspec": {
   "display_name": "Apache Toree - Scala",
   "language": "scala",
   "name": "apache_toree_scala"
  },
  "language_info": {
   "codemirror_mode": "text/x-scala",
   "file_extension": ".scala",
   "mimetype": "text/x-scala",
   "name": "scala",
   "pygments_lexer": "scala",
   "version": "2.11.8"
  },
  "varInspector": {
   "cols": {
    "lenName": 16,
    "lenType": 16,
    "lenVar": 40
   },
   "kernels_config": {
    "python": {
     "delete_cmd_postfix": "",
     "delete_cmd_prefix": "del ",
     "library": "var_list.py",
     "varRefreshCmd": "print(var_dic_list())"
    },
    "r": {
     "delete_cmd_postfix": ") ",
     "delete_cmd_prefix": "rm(",
     "library": "var_list.r",
     "varRefreshCmd": "cat(var_dic_list()) "
    }
   },
   "types_to_exclude": [
    "module",
    "function",
    "builtin_function_or_method",
    "instance",
    "_Feature"
   ],
   "window_display": false
  }
 },
 "nbformat": 4,
 "nbformat_minor": 2
}
